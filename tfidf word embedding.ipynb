{
  "nbformat": 4,
  "nbformat_minor": 0,
  "metadata": {
    "colab": {
      "provenance": [],
      "authorship_tag": "ABX9TyO6ryjSalbqxkm9y/dveaI2",
      "include_colab_link": true
    },
    "kernelspec": {
      "name": "python3",
      "display_name": "Python 3"
    },
    "language_info": {
      "name": "python"
    }
  },
  "cells": [
    {
      "cell_type": "markdown",
      "metadata": {
        "id": "view-in-github",
        "colab_type": "text"
      },
      "source": [
        "<a href=\"https://colab.research.google.com/github/p-ai-org/p-colleges/blob/main/tfidf%20word%20embedding.ipynb\" target=\"_parent\"><img src=\"https://colab.research.google.com/assets/colab-badge.svg\" alt=\"Open In Colab\"/></a>"
      ]
    },
    {
      "cell_type": "code",
      "source": [
        "# important imports\n",
        "!pip install kneed\n",
        "\n",
        "import pandas as pd\n",
        "import numpy as np\n",
        "import pandas as pd\n",
        "from scipy import spatial\n",
        "import string\n",
        "import nltk\n",
        "nltk.download('stopwords')\n",
        "from nltk.corpus import stopwords\n",
        "\n",
        "from kneed import KneeLocator\n",
        "from sklearn.cluster import KMeans\n",
        "from sklearn.metrics import silhouette_score\n",
        "\n",
        "#import word embedding \n",
        "!wget http://nlp.stanford.edu/data/glove.42B.300d.zip\n",
        "!unzip glove.42B.300d.zip\n",
        "\n",
        "#import csv and dropping rows without mission statements\n",
        "url = 'https://raw.githubusercontent.com/p-ai-org/p-colleges/main/Brian/Mission%20Statement/Data_2-14-2023.csv'\n",
        "df1 = pd.read_csv(url)\n",
        "df1['Mission statement (IC2020mission)'].replace('', np.nan, inplace=True)\n",
        "df1.dropna(subset=['Mission statement (IC2020mission)'], inplace=True)\n",
        "len(df1)"
      ],
      "metadata": {
        "colab": {
          "base_uri": "https://localhost:8080/"
        },
        "id": "j2EKRlPCSaAl",
        "outputId": "10da2ec3-9ca4-4075-d964-b51b7cb96ed3"
      },
      "execution_count": null,
      "outputs": [
        {
          "output_type": "stream",
          "name": "stdout",
          "text": [
            "Looking in indexes: https://pypi.org/simple, https://us-python.pkg.dev/colab-wheels/public/simple/\n",
            "Collecting kneed\n",
            "  Downloading kneed-0.8.2-py3-none-any.whl (10 kB)\n",
            "Requirement already satisfied: scipy>=1.0.0 in /usr/local/lib/python3.8/dist-packages (from kneed) (1.10.1)\n",
            "Requirement already satisfied: numpy>=1.14.2 in /usr/local/lib/python3.8/dist-packages (from kneed) (1.22.4)\n",
            "Installing collected packages: kneed\n",
            "Successfully installed kneed-0.8.2\n"
          ]
        },
        {
          "output_type": "stream",
          "name": "stderr",
          "text": [
            "[nltk_data] Downloading package stopwords to /root/nltk_data...\n",
            "[nltk_data]   Unzipping corpora/stopwords.zip.\n"
          ]
        },
        {
          "output_type": "stream",
          "name": "stdout",
          "text": [
            "--2023-03-04 06:25:34--  http://nlp.stanford.edu/data/glove.42B.300d.zip\n",
            "Resolving nlp.stanford.edu (nlp.stanford.edu)... 171.64.67.140\n",
            "Connecting to nlp.stanford.edu (nlp.stanford.edu)|171.64.67.140|:80... connected.\n",
            "HTTP request sent, awaiting response... 302 Found\n",
            "Location: https://nlp.stanford.edu/data/glove.42B.300d.zip [following]\n",
            "--2023-03-04 06:25:34--  https://nlp.stanford.edu/data/glove.42B.300d.zip\n",
            "Connecting to nlp.stanford.edu (nlp.stanford.edu)|171.64.67.140|:443... connected.\n",
            "HTTP request sent, awaiting response... 301 Moved Permanently\n",
            "Location: https://downloads.cs.stanford.edu/nlp/data/glove.42B.300d.zip [following]\n",
            "--2023-03-04 06:25:34--  https://downloads.cs.stanford.edu/nlp/data/glove.42B.300d.zip\n",
            "Resolving downloads.cs.stanford.edu (downloads.cs.stanford.edu)... 171.64.64.22\n",
            "Connecting to downloads.cs.stanford.edu (downloads.cs.stanford.edu)|171.64.64.22|:443... connected.\n",
            "HTTP request sent, awaiting response... 200 OK\n",
            "Length: 1877800501 (1.7G) [application/zip]\n",
            "Saving to: ‘glove.42B.300d.zip’\n",
            "\n",
            "glove.42B.300d.zip  100%[===================>]   1.75G  4.99MB/s    in 5m 52s  \n",
            "\n",
            "2023-03-04 06:31:27 (5.08 MB/s) - ‘glove.42B.300d.zip’ saved [1877800501/1877800501]\n",
            "\n",
            "Archive:  glove.42B.300d.zip\n",
            "  inflating: glove.42B.300d.txt      \n"
          ]
        },
        {
          "output_type": "execute_result",
          "data": {
            "text/plain": [
              "427"
            ]
          },
          "metadata": {},
          "execution_count": 1
        }
      ]
    },
    {
      "cell_type": "code",
      "source": [
        "#previous functions that we need\n",
        "!head -n 1000 glove.42B.300d.txt > top_1000.txt\n",
        "\n",
        "embeddings = {}\n",
        "with open('top_1000.txt', 'r') as f:\n",
        "    for line in f:\n",
        "        values = line.split()\n",
        "        word = values[0]\n",
        "        vector = np.asarray(values[1:], \"float32\")\n",
        "        embeddings[word] = vector\n",
        "        \n",
        "words_with_embeddings = set([w for w in embeddings])\n",
        "\n",
        "# function 1: changing text to a list of words, removing punctuation and stop words\n",
        "\n",
        "def clean(text):\n",
        "     # clean description\n",
        "    text = text.translate(str.maketrans('', '', string.punctuation))\n",
        "    description = text.lower().strip()\n",
        "    words = description.split(\" \")\n",
        "    stops = set(stopwords.words('english'))\n",
        "    \n",
        "    # filter out stop words\n",
        "    words = [w for w in words if not w in stops]\n",
        "\n",
        "    return words"
      ],
      "metadata": {
        "id": "Gb1CG6IzSZ7x"
      },
      "execution_count": null,
      "outputs": []
    },
    {
      "cell_type": "code",
      "execution_count": null,
      "metadata": {
        "id": "QbH3-Ox1RyZG"
      },
      "outputs": [],
      "source": [
        "def word_frequency_in_all_docs(listOfWords):\n",
        "  \"\"\"This function calculates the term frequency (how many documents the word appears in) and returns a dictionary with each word that appears in all the documents and the number of times it appear as its corresponding key.\"\"\"\n",
        "  newList = list(set(listOfWords))\n",
        "\n",
        "  # listOfWords should be: df1[\"Mission statement (IC2020mission)\"]\n",
        "  wordDic = {}\n",
        "  for sentence in newList:\n",
        "    cleanedSentence = set(clean(sentence))\n",
        "    for word in cleanedSentence:\n",
        "      # adds word in as key with value 1\n",
        "      if (word not in wordDic):\n",
        "        wordDic[word] = 1 \n",
        "      # increase value if sees word again\n",
        "      else:\n",
        "        wordDic[word] += 1\n",
        "    \n",
        "  wordDic.pop('') \n",
        "  print(len(newList))\n",
        "  print(wordDic)\n",
        "  return wordDic"
      ]
    },
    {
      "cell_type": "code",
      "source": [
        "wordDic = word_frequency_in_all_docs(df1[\"Mission statement (IC2020mission)\"])"
      ],
      "metadata": {
        "colab": {
          "base_uri": "https://localhost:8080/"
        },
        "id": "cLDeCisNSL3O",
        "outputId": "85b24323-58b2-496a-a038-75d96995248f"
      },
      "execution_count": null,
      "outputs": [
        {
          "output_type": "stream",
          "name": "stdout",
          "text": [
            "389\n",
            "{'committed': 88, 'required': 45, 'larger': 41, 'outlook': 39, 'means': 43, 'must': 38, 'way': 43, 'mastering': 42, 'judaism': 42, 'students': 240, 'bais': 6, 'understanding': 50, 'yeshiva': 28, 'drawn': 39, 'ethical': 62, 'moral': 49, 'studying': 42, 'good': 48, 'time': 44, 'train': 49, 'seeks': 55, 'talmud': 51, 'body': 54, 'world': 123, 'concepts': 39, 'skills': 73, 'therefore': 39, 'traditional': 58, 'seek': 49, 'end': 41, 'help': 47, 'knowledge': 94, 'jewish': 56, 'thought': 47, 'life': 93, 'build': 42, 'aharon': 1, 'considerable': 42, 'orient': 37, 'value': 45, 'significant': 38, 'scholarship': 75, 'definition': 37, 'harvey': 1, 'society': 66, 'educate': 34, 'work': 19, 'scientists': 1, 'clear': 3, 'well': 22, 'may': 8, 'fields': 11, 'mathematicians': 1, 'assume': 2, 'humanities': 8, 'impact': 9, 'engineers': 1, 'sciences': 27, 'college': 117, 'leadership': 52, 'mudd': 1, 'versed': 1, 'areas': 5, 'social': 37, 'service': 82, 'arts': 104, 'shared': 1, 'strives': 8, 'georgia': 3, 'learning': 112, 'provides': 41, 'comprehensive': 21, 'values': 18, 'biblical': 21, 'lifelong': 37, 'brewtonparker': 1, 'experience': 26, 'student': 41, 'programs': 77, 'equips': 3, 'liberal': 87, 'application': 10, 'institution': 61, 'truth': 12, 'focus': 8, 'christ': 29, 'provide': 61, 'transformational': 3, 'engagement': 24, 'baptist': 14, 'cocurricular': 3, 'professional': 71, 'cultural': 19, 'whole': 13, 'community': 113, 'character': 17, 'christian': 57, 'servant': 7, 'independent': 11, 'opportunities': 32, 'strong': 13, 'catholic': 19, 'individual': 14, 'specifically': 1, 'francis': 1, 'beliefs': 1, 'urban': 8, 'relational': 1, 'coeducational': 3, 'heights': 2, 'accessiblypriced': 1, 'study': 33, 'attention': 2, 'boroughs': 1, 'hospitable': 1, 'afforded': 1, 'create': 15, 'choices': 4, 'prepared': 6, 'commitment': 34, 'excellence': 62, 'core': 8, 'person': 7, 'serve': 35, 'designed': 8, 'mutual': 5, 'location': 3, 'physical': 7, 'immerse': 2, 'graduate': 52, 'religious': 8, 'professors’': 1, 'environment': 49, 'form': 2, 'fitness': 1, 'talents': 3, 'local': 16, 'critical': 27, 'alumni': 6, 'disciplines': 11, 'careers': 29, 'quality': 34, 'york': 3, 'globalized': 1, 'increasingly': 8, 'integrated': 5, 'developing': 11, 'wide': 5, 'offer': 9, 'rigors': 1, 'education': 146, 'beyond': 10, 'foster': 23, 'full': 6, 'celebrate': 3, 'brooklyn': 1, 'students’': 4, 'ample': 1, 'fulfilling': 10, 'citizenship': 10, 'confluence': 1, 'cultures': 8, 'serviceoriented': 2, 'respect': 6, 'traditions': 9, 'private': 16, 'mirroring': 1, 'franciscan': 1, 'st': 9, 'intellectual': 45, 'personal': 52, 'confident': 3, 'new': 14, 'classes': 5, 'trust': 1, 'maintain': 5, 'spiritual': 24, 'atmosphere': 7, 'city': 5, 'small': 9, 'responsibility': 13, 'abilities': 4, 'live': 12, 'preprofessional': 5, 'responsible': 27, 'range': 5, 'five': 2, 'marketplace': 5, 'justice': 11, 'diverse': 74, 'collaborative': 16, 'development': 48, 'academic': 73, 'prepare': 44, 'curriculum': 15, 'based': 15, 'thinking': 20, 'underpin': 1, 'needs': 27, 'technological': 6, 'instruction': 7, 'whose': 11, 'meaningful': 18, 'empowerment': 2, 'higher': 35, 'blood': 1, 'precious': 1, 'dedicated': 39, 'undergraduate': 42, 'opportunity': 17, 'dignity': 2, 'informed': 7, 'founding': 6, 'inherent': 2, 'joseph': 4, 'people': 26, 'cpps': 1, 'ethic': 2, 'calumet': 1, 'promotes': 12, 'missionaries': 3, 'research': 47, 'purpose': 23, 'known': 5, 'teachers': 11, 'central': 17, 'ohio': 2, 'advance': 13, 'beautiful': 1, 'across': 10, 'international': 17, 'outstanding': 9, 'setting': 5, 'many': 4, 'rich': 7, 'appalachian': 1, 'faculty': 29, 'mission': 116, 'campus': 15, 'statement': 10, 'university': 146, 'accomplished': 6, 'history': 10, 'creative': 38, 'distinguished': 6, 'holds': 2, 'activity': 11, 'hadas': 1, 'machzikai': 1, 'appreciation': 2, 'together': 4, 'interdependent': 2, 'bringing': 1, 'communities': 37, 'excellent': 13, 'tradition': 31, 'communication': 6, 'features': 1, 'inquiry': 22, 'integrity': 18, 'stimulates': 2, 'methodologies': 1, 'literacy': 2, 'selective': 2, 'qualities': 5, 'art': 14, 'citizens': 37, 'teaching': 43, 'debate': 1, 'convictions': 1, 'encourages': 8, 'grounded': 11, 'mind': 13, 'expression': 6, 'demonstrate': 2, 'complex': 9, 'solidly': 2, 'reach': 3, 'encourage': 6, 'foundation': 14, 'effective': 14, 'develop': 26, 'information': 3, 'interactive': 3, 'approaches': 3, 'dimension': 3, 'active': 14, 'members': 12, 'heart': 5, 'potential': 10, 'citizen': 2, 'close': 6, 'meet': 13, 'embrace': 1, 'studentfaculty': 2, 'practiced': 1, 'imaginative': 3, 'forms': 4, 'judgment': 3, 'enlightened': 5, 'lively': 1, 'commit': 1, 'stetson': 1, 'alliances': 1, 'advanced': 12, 'aesthetic': 3, 'rewarding': 3, 'commitments': 3, 'characteristic': 2, 'enhanced': 2, 'telshe': 3, 'chicago': 4, 'living': 11, 'global': 69, 'contributive': 1, 'steady': 1, 'stream': 1, 'soka': 1, 'america': 11, 'lakes': 1, 'servantleaders': 2, 'glorify': 6, 'preparing': 29, 'churcheschurches': 1, 'great': 11, 'god': 23, 'affiliated': 7, 'church': 33, 'using': 5, 'reinvent': 1, 'model': 1, 'rigorous': 19, 'engaged': 23, 'underserved': 3, 'studentdriven': 1, 'adult': 5, 'learners': 18, 'pastoral': 4, 'holy': 4, 'school': 12, 'seminarians': 1, 'angel': 1, 'benedictine': 4, 'formation': 4, 'abbey': 1, 'offers': 12, 'comprised': 1, 'seminarys': 2, 'requiring': 1, 'enter': 4, 'primary': 4, 'adhere': 2, 'women': 18, 'additional': 2, 'laymen': 3, 'men': 19, 'united': 11, 'pretheology': 2, 'monks': 1, 'human': 19, 'priesthood': 2, 'board': 6, 'seminary': 21, 'stated': 3, 'theological': 9, 'qualified': 9, 'priestly': 1, 'directors': 1, 'addition': 4, 'bishops': 2, 'established': 5, 'see': 3, 'states': 7, 'program': 19, 'mount': 4, 'theology': 4, 'preparation': 13, 'approved': 2, 'apostolate': 1, 'roman': 2, 'norms': 2, 'conference': 2, 'educational': 59, 'care': 5, 'health': 15, 'meeting': 2, 'cox': 1, 'lives': 51, 'useful': 3, 'pacific': 3, 'union': 3, 'productive': 17, 'offering': 17, 'seventhday': 2, 'christcentered': 14, 'uncompromising': 1, 'prepares': 47, 'adventist': 2, 'issues': 7, 'free': 12, 'deepening': 1, '”': 2, 'perspective': 10, 'luke': 1, 'spirit': 12, 'recovery': 1, 'redefining': 1, '“bring': 1, 'release': 1, 'poor': 1, 'solutions': 2, '21st': 3, 'upon': 9, 'sight': 1, 'salient': 1, 'blind': 1, 'delivering': 2, 'reformed': 1, 'challenges': 15, 'crosscultural': 1, 'us': 2, 'oppressed': 1, 'century': 3, 'aiding': 1, 'advancing': 4, 'news': 1, '418': 1, 'affect': 1, 'socially': 6, 'improve': 6, 'proclaim': 4, 'go': 1, 'find': 3, 'personally': 3, 'spirituality': 2, 'principle': 4, 'let': 1, 'acquiring': 1, 'captives': 1, 'unparalleled': 2, 'entrepreneurial': 3, 'combines': 2, 'emphasizes': 10, 'preparedness': 1, 'sustainability': 3, 'interdisciplinary': 5, 'economic': 21, 'snc': 1, 'scholars': 12, 'graduates': 37, 'contributors': 3, 'sustainable': 7, 'environmental': 5, 'yosef': 2, 'partnerships': 6, 'realize': 4, 'horizons': 1, 'facilitate': 1, 'enrichment': 5, 'surrounding': 1, 'region': 11, 'creating': 6, 'staff': 16, 'another': 2, 'personalized': 8, 'state': 36, 'passion': 7, 'expand': 4, 'interactions': 2, 'administrators': 2, 'scholarly': 13, 'contribute': 16, 'stanislaus': 1, 'activities': 10, 'challenge': 6, 'promote': 10, 'california': 6, 'artistic': 7, 'appreciate': 1, 'one': 8, 'affordable': 6, 'universitys': 10, 'commonwealth': 4, 'public': 32, 'nation': 14, 'high': 16, 'conduct': 4, 'accessible': 9, 'equipping': 9, 'leaders': 45, 'arizona': 4, 'jesus': 13, 'influence': 5, 'lord': 5, 'biblicallyintegrated': 1, 'aspects': 1, 'support': 13, 'creates': 3, 'western': 6, 'oregon': 1, 'transformative': 10, 'success': 18, 'lasting': 2, 'individuals': 24, 'wesleyan': 5, 'readiness': 1, 'catalog': 1, 'compatible': 1, 'exists': 16, 'olivet': 2, 'denominational': 1, 'universitylevel': 1, '…': 1, '”we': 1, 'piety': 1, 'sought”': 1, '”education': 1, 'thoroughly': 2, 'nazarene': 2, 'career': 17, 'highquality': 10, 'purpose”': 1, 'strongest': 1, '1915': 1, 'deepest': 1, 'humanity': 6, 'quotation': 1, 'knowing': 1, 'rabbinical': 12, 'dmonsey': 1, 'enterprises': 1, 'broad': 3, 'array': 4, 'resources': 9, 'cultivation': 2, 'louisiana': 2, 'dissemination': 2, 'extensive': 2, 'achieve': 10, 'researchextensive': 1, 'worldclass': 1, 'preservation': 3, 'degree': 10, 'highest': 12, 'generation': 6, 'levels': 10, 'base': 2, 'vision': 10, 'highly': 11, 'employing': 1, 'flagship': 1, 'implementing': 1, 'solve': 3, 'competitive': 5, 'teacherscholars': 1, 'land': 3, 'nationally': 4, 'transferable': 1, 'challenging': 11, 'sea': 2, 'leading': 8, 'lsu': 1, 'attract': 2, 'designated': 2, 'spacegrant': 2, 'rabbi': 2, 'mesivta': 3, 'chaim': 4, 'berlin': 1, 'academy': 5, 'workforce': 5, 'healthcare': 4, 'employees': 3, 'attributes': 5, 'educated': 7, 'didactic': 3, 'chosen': 11, 'culturally': 13, 'field': 9, 'structured': 5, 'fosters': 19, 'dynamic': 9, 'disciplined': 3, 'communitys': 2, 'future': 14, 'gain': 4, 'competent': 8, 'focusing': 2, 'growth': 25, 'within': 21, 'clinical': 3, 'participate': 5, 'parents': 2, 'unknown': 2, 'east': 3, 'friends': 3, 'classroom': 6, 'matters': 3, 'singular': 2, 'rigor': 3, 'supported': 2, 'mathematics': 3, 'johns': 3, 'also': 9, 'opinion': 2, 'reflect': 5, 'languages': 3, 'open': 7, 'cooperative': 2, 'make': 12, 'partners': 3, 'santa': 2, 'works': 4, 'deal': 2, 'ability': 10, 'music': 4, 'discussionbased': 2, 'west': 2, 'focuses': 2, 'reading': 2, 'ends': 2, 'engage': 18, 'hope': 3, 'become': 22, 'endeavors': 8, 'participating': 2, 'intertwined': 2, 'unexamined': 2, 'fe': 2, 'elements': 4, 'beings': 5, 'subject': 5, 'present': 5, 'anchored': 3, 'prejudice': 2, 'things': 4, 'science': 13, 'colleagues': 3, 'thoughtful': 8, 'enable': 8, 'nature': 4, 'discussion': 2, 'talmudical': 6, 'bobov': 1, 'studies': 20, 'machzikei': 1, '1956': 1, 'hadath': 1, 'intensive': 5, 'founded': 16, 'researchintensive': 1, 'rights': 2, 'cau': 1, 'located': 2, 'ignited': 1, 'movement': 1, 'epicenter': 1, 'technologies': 3, 'emerging': 5, 'heritage': 14, 'civil': 1, 'center': 5, 'relevant': 8, 'transforms': 5, 'building': 5, 'clark': 1, 'modern': 3, 'innovation': 10, 'atlanta': 3, 'dallas': 2, 'calling': 2, 'mentors': 2, 'engaging': 2, 'educates': 14, 'exploration': 4, 'experiential': 10, 'talmudic': 15, 'analytical': 4, 'lay': 4, 'transmission': 1, 'analysis': 4, 'sources': 1, 'wisdom': 6, 'rigorously': 1, 'senior': 2, 'black': 9, 'roots': 1, 'episcopal': 3, 'civic': 10, 'miles': 1, 'enabling': 3, 'leads': 3, 'methodist': 9, 'thereby': 2, 'cultivates': 4, 'shape': 8, 'historically': 9, 'transformed': 1, 'awareness': 7, 'mtvrs': 1, 'motivation': 1, 'founders': 1, 'revealed': 2, 'undiminished': 1, 'executed': 1, 'kaleidescopic': 1, 'transcended': 1, 'training': 17, 'commentaries': 2, 'conflicting': 1, 'ages': 3, 'vitality': 2, 'veracity': 1, 'scholastic': 2, 'bible': 11, 'expounded': 1, 'shifts': 1, 'remaining': 1, 'ideals': 5, 'countless': 1, 'conviction': 3, 'plans': 1, 'truths': 3, 'received': 1, 'profound': 1, 'young': 11, 'ideologies': 1, 'elucidated': 1, 'change': 7, 'effectively': 11, 'providing': 23, 'holistic': 4, 'biblically': 10, 'saint': 5, 'mary': 1, 'backgrounds': 22, 'godgiven': 1, 'valuecentered': 1, 'natural': 6, 'advancement': 11, 'intellect': 5, 'substantive': 1, 'emphasize': 5, 'business': 14, 'fisk': 1, 'produces': 4, 'discovery': 9, 'contributions': 6, 'gedolah': 6, 'cliffwood': 1, 'torah': 18, 'havuneh': 1, 'yirei': 1, 'important': 3, 'molding': 1, 'chachomim': 3, 'hashem': 1, 'aleksander': 1, 'b’iyun': 1, 'talmidei': 3, 'chassidishe': 1, 'instill': 3, 'derech': 2, 'african': 2, 'descent': 1, 'leader': 5, 'empowers': 8, 'positive': 2, 'inspires': 8, 'spelman': 1, 'fiscal': 2, 'cultivating': 3, 'northwestern': 1, 'oklahoma': 2, 'designers': 4, 'radical': 1, 'visual': 5, 'sustain': 3, 'forwardthinking': 1, 'contemporary': 9, 'difference': 3, 'artists': 6, 'substantial': 1, 'touch': 1, 'common': 6, 'economies': 1, 'massachusetts': 2, 'design': 9, 'educators': 6, 'advances': 6, 'transform': 12, 'informational': 1, 'biomedical': 2, 'law': 7, 'solvers': 1, 'behavioral': 1, 'innovative': 18, 'practitioners': 1, 'performing': 2, 'north': 10, 'acclaimed': 1, 'problem': 2, 'nccu': 1, 'enhance': 7, 'triangle': 1, 'biotechnological': 1, 'computational': 1, 'recognized': 1, 'carolina': 8, 'humane': 2, 'creation': 6, 'dominicansponsored': 1, 'give': 2, 'compassionate': 6, 'dominican': 2, 'pursue': 14, 'sinsinawa': 1, 'benefitting': 1, 'area': 3, 'francisco': 2, 'practice': 5, 'architecture': 1, 'writing': 2, 'culture': 13, 'bay': 1, 'san': 4, 'significance': 2, 'reinforces': 1, 'unrelenting': 1, 'enables': 2, 'proud': 2, 'globally': 3, 'supportive': 13, 'elmira': 1, 'access': 14, 'enrich': 4, 'peru': 1, 'strengthen': 1, 'experiences': 19, 'nebraska': 1, 'tuition': 1, 'glory': 1, 'believers': 2, 'equip': 4, 'churches': 9, 'assisting': 5, 'inerrant': 2, 'word': 6, 'minister': 2, 'modest': 1, 'skillsall': 1, 'southern': 3, 'ministry': 14, 'includes': 2, 'bring': 3, 'various': 7, 'solution': 1, 'promotion': 3, 'bethunecookman': 1, 'seekers': 1, 'faith': 23, 'huntsville': 1, 'ministers': 3, 'workers': 2, 'ministries': 3, 'gospel': 3, 'hurting': 1, 'job': 1, 'evangelism': 2, 'youth': 1, 'educating': 13, 'communicators': 3, '1': 6, 'principles': 8, '2': 5, 'according': 2, 'consistent': 3, 'healing': 1, 'hbc': 1, 'organizations': 4, 'saving': 1, 'lifecareers': 1, '3': 5, '4': 4, 'congregations': 1, 'lost': 1, 'related': 5, 'think': 11, 'worldview': 5, 'serving': 7, 'lancaster': 1, 'next': 4, 'exalt': 1, 'alaska': 1, 'christlike': 2, 'extend': 1, 'performance': 2, 'davenport': 1, 'excel': 7, 'hampshire': 1, 'springfield': 1, 'others': 13, 'covington': 1, 'examine': 2, 'faiths': 2, 'kentucky': 4, 'thomas': 2, 'place': 5, 'ultimate': 2, 'diocese': 2, 'inspired': 8, 'meaning': 2, 'environments': 4, 'planning': 2, 'online': 7, 'applied': 7, 'scope': 2, 'worldwide': 4, 'acquire': 4, 'emphasis': 9, 'administration': 4, 'exist': 1, 'florida': 4, 'locations': 2, 'bachelor': 5, 'courses': 3, 'practical': 19, 'hybrid': 1, 'andor': 2, 'written': 3, 'webbers': 1, 'master': 2, 'general': 6, 'placed': 2, 'special': 4, 'residence': 1, 'balanced': 4, 'practices': 6, 'entrepreneurship': 1, 'degrees': 15, 'strategic': 3, 'periods': 1, 'either': 1, 'awards': 2, 'expertise': 5, 'breadth': 4, 'associate': 6, 'oral': 2, 'draw': 2, 'multidisciplinary': 4, 'transforming': 3, 'available': 3, 'andrews': 1, 'enhancing': 5, 'depth': 5, 'creativity': 13, 'empathy': 2, 'dedication': 8, 'suny': 1, 'intercultural': 1, 'fabric': 1, 'endeavor': 7, 'among': 7, 'old': 1, 'weaves': 1, 'stimulate': 3, 'interaction': 3, 'bound': 1, 'westbury': 1, 'island': 2, 'long': 2, 'hatorah': 2, 'emek': 1, 'yeshivas': 3, 'curiosity': 6, 'landgrant': 5, '•': 3, 'reaching': 1, 'critically': 7, 'perspectives': 5, 'scientific': 5, 'populations': 3, 'address': 3, 'institutions': 11, 'continuous': 1, '1890': 5, 'aspiration': 2, 'communicate': 3, 'nurturing': 3, 'collaborating': 1, 'search': 2, 'technologically': 4, 'enriched': 1, 'agencies': 6, 'multicultural': 4, 'instilling': 4, 'oriented': 2, 'government': 3, 'stimulating': 2, 'integrates': 5, 'exceptional': 7, 'utilizes': 1, 'follows': 1, 'longterm': 2, 'completion': 3, 'collaborate': 1, '•academic': 1, '•community': 1, 'enrollment': 2, 'outcomes': 1, 'focused': 9, 'industry': 5, 'stability': 1, '•student': 1, 'processes': 1, 'achieving': 3, 'studentcentered': 8, 'professionals': 11, 'revenue': 1, 'ensure': 5, 'large': 4, 'viability': 2, 'evolving': 2, 'deliver': 2, 'industryrelevant': 1, 'varied': 3, 'institute': 8, 'priorities': 1, 'institutional': 2, 'set': 3, 'formats': 4, 'implement': 1, 'strategies': 1, 'ai': 1, '•institutional': 1, 'guide': 2, 'continued': 4, 'along': 1, 'level': 13, 'doctoral': 7, 'certificates': 4, 'campbellsville': 1, 'caring': 3, 'noncredit': 2, 'linking': 1, 'participation': 6, 'associates': 1, 'technical': 6, 'enduring': 2, 'complexity': 2, 'problemsolving': 1, 'apply': 6, 'accountable': 1, 'grasp': 1, 'evaluate': 1, 'share': 6, 'valley': 4, 'societies': 2, 'contributes': 4, 'professions': 10, 'grand': 1, 'distance': 4, 'every': 9, 'onsite': 2, 'augusta': 1, 'maine': 1, 'age': 2, 'background': 2, 'emmanuel': 1, 'integrate': 3, 'disciples': 3, 'cairn': 1, 'professionally': 10, 'welleducated': 2, 'minded': 1, 'intellectually': 12, 'missouri': 2, 'emphasized': 2, 'evangelical': 5, 'maintained': 3, 'spiritually': 10, 'enriching': 2, 'mature': 2, 'historic': 2, 'roberts': 1, 'christianity': 2, 'umes': 1, 'eastern': 3, 'engineering': 4, 'maintaining': 2, 'technology': 15, 'first': 4, 'economy': 3, 'agriculture': 3, 'grant': 4, 'degreegranting': 1, 'including': 5, 'maryland': 3, 'diversity': 12, 'accredited': 3, 'distinctive': 10, 'knowledgebased': 1, 'shore': 1, 'valued': 3, 'uniqueness': 2, 'scripture': 3, 'competencies': 5, 'sdcc': 1, 'diego': 1, 'inspire': 7, 'intentionally': 2, 'exemplary': 3, 'connecticut': 1, 'nations': 2, 'order': 10, 'washington': 1, 'seize': 1, 'cosmopolitan': 1, 'throughout': 12, 'capital': 2, 'stevens': 1, 'respective': 4, '\\t': 1, 'successful': 7, 'crosssection': 1, 'assist': 5, 'employment': 4, 'obtaining': 3, 'obtain': 3, '2\\tto': 1, '1\\tto': 1, 'twofold': 2, 'needed': 7, 'ethnic': 3, 'goals': 3, 'socioeconomic': 1, 'tifereth': 2, 'kollel': 1, 'elizer': 1, 'mkor': 1, 'tomorrow': 2, 'faithful': 2, 'today': 4, 'servants': 4, 'use': 9, 'thorough': 1, 'tristate': 1, 'intangible': 1, 'tangible': 1, 'permitted': 1, 'purchase': 1, 'property': 2, 'buildings': 1, 'boston': 1, 'lease': 1, 'rent': 1, 'encumber': 1, 'fellowship': 1, 'domestic': 2, 'capacities': 3, 'ch': 1, 'necessary': 6, 'real': 3, 'particularly': 3, 'appropriate': 5, 'sell': 1, '180': 1, 'presentation': 1, 'welcoming': 3, 'toward': 8, 'defines': 2, 'classic': 2, 'pursuing': 2, 'contemplative': 1, 'identify': 2, 'reasoning': 2, 'specific': 5, 'melamdim': 1, 'legal': 4, 'talmudists': 2, 'following': 3, 'forward': 2, 'aggadata': 2, 'mussar': 3, 'logic': 2, 'gifts': 3, 'devotional': 2, 'argumentation': 2, 'methods': 4, 'aims': 4, 'bobover': 1, 'fostering': 9, 'sensibility': 3, 'carry': 2, 'deftness': 2, 'rabbinic': 4, 'rabbinics': 2, 'lead': 18, '5': 3, 'encouragement': 2, 'interpretation': 1, 'texts': 3, 'maggidei': 1, '6': 3, 'textual': 3, 'proficiency': 3, 'mechanchim': 1, 'capacity': 5, 'shiur': 1, 'chain': 3, 'reality': 1, 'columbia’s': 1, 'context': 3, 'racial': 1, 'communications': 1, 'times': 1, 'vital': 4, 'creatively': 5, 'author': 1, 'relationship': 1, 'serves': 4, 'columbia': 2, 'conducts': 1, 'perceptions': 1, 'events': 1, 'intent': 1, 'public’s': 1, 'principal': 3, 'truett': 1, 'mcconnell': 1, 'friendly': 2, 'fulfill': 4, 'biblicallycentered': 1, 'family': 5, 'commission': 3, 'pursuit': 11, 'aquinas': 1, 'inclusive': 11, 'rooted': 7, 'uniquely': 1, 'lincoln': 1, 'seeking': 3, 'orthodox': 4, 'yfrdars': 1, 'hashkafa': 1, 'integrating': 3, 'soul': 2, 'texas': 5, 'identity': 3, 'grounding': 1, 'ethically': 2, 'jesuit': 4, 'everchanging': 2, 'peters': 1, 'compassionately': 1, 'purposeful': 2, 'discoverybased': 1, 'highestquality': 1, 'intrinsic': 1, 'presented': 1, 'worth': 2, 'aic': 1, 'american': 5, 'fulfillment': 5, 'achievement': 5, 'theory': 1, 'scholarservants': 1, 'academically': 6, 'houghton': 1, 'changing': 6, 'labor': 1, 'aviation': 1, 'operational': 1, 'better': 3, 'leveraging': 1, 'tomorrow’s': 1, 'greatest': 2, 'built': 2, 'mobility': 2, 'metropolitan': 3, 'skilled': 4, 'talent': 3, 'ucf': 1, 'develops': 6, 'wilson': 2, 'regional': 10, 'benefit': 7, 'houston': 3, 'constituencies': 1, 'sam': 1, 'national': 6, 'marty': 1, 'kingdom': 2, 'sioux': 2, 'falls': 2, 'programming': 2, 'regents': 1, 'years': 4, 'military': 2, 'articulated': 2, 'universities': 3, 'extension': 3, 'teacher': 2, 'agribusiness': 1, 'system': 6, 'pride': 2, 'undertaken': 1, 'recognizes': 3, 'naturally': 1, 'collectively': 1, 'fort': 2, 'include': 1, 'consumer': 1, 'desires': 1, 'responsibilities': 2, 'cause': 1, 'georgias': 1, 'reflective': 3, 'enhancement': 2, '110': 1, 'additionally': 1, 'embraces': 5, 'meor': 1, 'beth': 2, 'yitzchok': 2, 'medrash': 6, 'accordingly': 1, 'learn': 6, 'loyola': 1, 'assists': 2, 'civility': 1, 'mountain': 2, 'blue': 1, 'spinka': 1, 'chassidic': 1, 'placement': 1, 'subjects': 2, 'particular': 3, 'halacha': 4, 'covered': 1, 'love': 5, 'back': 2, 'original': 2, 'rumania': 1, '\\tthe': 1, 'judaic': 1, 'talmudim': 1, 'paced': 1, 'attained': 2, 'discourse': 1, 'gets': 1, 'receive': 3, 'depths': 1, 'growing': 3, 'halachic': 1, 'proficient': 1, 'lithuanian': 1, 'year': 2, 'blends': 1, 'conjunction': 1, 'acquired': 1, 'enthusiasm': 1, 'infused': 1, 'inquires': 1, 'course': 4, 'rabbis': 2, 'increases': 1, 'need': 5, 'explore': 2, 'style': 2, 'guarantee': 1, 'imrei': 1, 'traces': 1, 'act': 5, 'fitting': 1, 'services': 7, 'kyrs': 1, 'vocations': 4, 'goal': 3, 'chassidus': 1, 'studythe': 1, 'absorbed': 1, 'inform': 1, 'vocation': 4, 'millsaps': 1, 'shaping': 2, 'progress': 2, 'usi': 1, 'outreach': 4, 'wisely': 1, 'though': 1, 'helping': 4, 'marist': 1, 'stolin': 1, 'karlin': 1, 'benedict': 1, 'rule': 1, 'point': 1, 'fieldspecific': 1, 'transition': 1, 'path': 2, 'media': 4, 'objectives': 3, 'establish': 3, 'workshops': 1, 'furnish': 1, 'collaboration': 9, 'handson': 4, 'continuing': 10, 'supporting': 4, 'tasks': 1, 'follow': 2, 'filmmaking': 1, 'workplace': 1, 'employers': 2, 'tools': 3, 'understand': 6, 'careeroriented': 5, 'realm': 1, 'conceptual': 1, 'unavailable': 1, 'facility': 1, 'employer': 1, 'seattle': 1, 'perform': 1, 'film': 1, 'assistance': 1, 'action': 7, 'take': 6, 'multicampus': 3, 'stateoftheart': 2, 'population': 8, 'south': 3, 'joins': 1, 'activists': 2, 'ancestors': 1, 'realization': 1, 'jts': 1, 'involvement': 6, 'jews': 1, 'devotion': 1, 'articulates': 1, 'part': 4, 'cantors': 1, 'communal': 3, 'passionate': 2, 'country': 1, 'flowering': 1, 'intense': 3, 'strengthening': 2, 'insights': 2, 'preeminent': 2, 'authentic': 2, 'conservative': 1, 'fully': 3, 'israel': 3, 'covenant': 1, 'learned': 2, 'pluralist': 1, 'jewry': 1, 'egalitarian': 1, 'yesodei': 1, 'rabbinate': 1, 'positions': 5, 'demanding': 3, 'purposes': 7, '1995': 1, 'capable': 3, 'deeply': 2, 'spread': 2, 'september': 1, 'receptivity': 1, 'lines': 1, 'ucsc': 1, 'differing': 1, 'southeastern': 2, 'usefulness': 2, 'communicating': 1, 'offices': 1, 'reputation': 1, 'universitycollege': 1, 'partnership': 3, 'discovering': 1, 'brown': 1, 'unified': 1, 'preserving': 3, 'discharge': 1, 'brevard': 1, 'races': 1, 'africanamerican': 1, 'lutheran': 9, 'wisconsin': 2, 'concordia': 4, 'jacob': 1, 'ohr': 4, 'chabad': 1, 'elchonon': 1, 'preserves': 1, 'commercialization': 2, 'benefits': 3, 'austin': 2, 'discoveries': 2, 'state’s': 1, 'superior': 3, 'baccalaureate': 8, 'interrelated': 1, 'aspiring': 2, 'colorado': 2, 'specialized': 2, 'masters': 3, 'selected': 2, 'springs': 1, 'admission': 1, 'number': 3, 'standards': 8, 'shall': 4, 'sisters': 3, 'energetic': 1, 'expands': 1, 'adults': 4, 'interdependence': 1, 'community’s': 1, 'cultivate': 7, 'engages': 5, 'delivers': 5, 'motivated': 2, 'thinkers': 4, 'carondelet': 1, 'welcome': 3, 'progressive': 1, 'rose': 1, 'elyon': 1, 'aryeh': 1, 'zichron': 2, 'lifeenhancing': 1, 'continually': 1, 'videography': 1, 'equipment': 1, 'classrooms': 1, 'unique': 7, 'aspect': 2, 'illustration': 1, 'talented': 4, 'judgement': 1, 'achievements': 1, 'asset': 2, 'searches': 1, 'successfully': 3, 'accept': 1, 'software': 2, 'decisionmaking': 1, 'extremely': 1, 'upgrade': 1, 'acknowledging': 1, 'photography': 1, 'employ': 1, 'selfconfidence': 1, 'colleges': 2, 'recognition': 2, 'formal': 3, 'fundamentals': 1, 'commercial': 2, 'welldesigned': 1, 'nossi': 1, 'objective': 3, 'scriptures': 1, 'faithfulness': 1, 'teachings': 3, 'confessional': 1, 'grounds': 1, 'church—missouri': 1, 'steadfast': 2, 'synod': 5, 'uhv': 1, 'connections': 3, 'destination': 1, 'houstonvictoria': 1, 'millennia': 1, 'aptitude': 1, 'organizational': 1, 'attentiveness': 1, 'fulfilled': 1, 'uncovering': 1, 'offerings': 1, 'produce': 8, 'face': 1, 'generations': 2, 'capabilities': 1, 'atlantic': 1, 'elevating': 1, 'competence': 3, 'collegelevel': 1, 'oholei': 1, 'greek': 1, 'archdiocese': 1, 'sustaining': 2, 'ordained': 2, 'teach': 7, 'pentecostal': 2, 'northpoint': 1, 'la': 2, 'verne': 1, 'traditionalage': 1, 'richer': 2, 'classical': 5, 'intelligent': 2, 'hashkofa': 1, 'tlamud': 1, 'diploma': 2, 'fashion': 1, 'methodology': 1, 'learningcentered': 3, 'culinary': 2, 'campuses': 2, 'branch': 1, 'antonio': 1, 'management': 1, 'entrylevel': 2, 'incorporate': 1, 'appears': 1, 'declaring': 1, 'formally': 1, 'amended': 1, 'articles': 1, 'adopted': 2, '1944': 1, 'governing': 1, 'president': 1, 'reiterated': 1, 'initially': 1, 'since': 2, 'made': 1, 'recently': 1, 'incorporation': 1, 'trevecca': 1, 'wku': 1, 'constituents': 1, 'enriches': 3, 'citizenleaders': 1, 'conducive': 1, 'montgomery': 1, 'systems': 1, 'electronic': 1, 'auburn': 1, 'delivery': 6, 'thiel': 1, 'hanover': 1, 'plu': 1, 'earth': 2, '–': 2, 'kings': 1, 'directly': 1, 'publicly': 1, 'speaking': 1, 'eventually': 1, 'baltimore': 2, 'hamedrash': 1, 'asbury': 1, 'park': 1, 'infinite': 1, 'condition': 3, 'persons': 3, 'manchester': 1, 'respects': 1, 'principled': 1, 'rensselaer': 1, 'prosperity': 1, 'integration': 3, 'interpersonal': 1, 'wellbeing': 1, 'called': 3, 'christians': 1, 'affirms': 1, 'grow': 2, 'helps': 3, 'emotional': 1, 'discern': 1, 'humankind': 1, 'lordship': 1, 'maturity': 3, 'motto': 1, 'geographically': 1, 'practitioneroriented': 1, 'devry': 1, 'dispersed': 1, 'connection': 3, 'betterment': 4, 'fellow': 4, 'firm': 4, 'boruch': 1, 'tiferes': 1, 'ways': 2, 'decidedly': 1, 'nurtures': 4, 'everybody': 1, 'strive': 4, 'affords': 1, 'standard': 1, 'girded': 1, 'academics': 6, 'democratic': 3, 'provided': 2, 'employed': 1, 'minorities': 1, 'grambling': 1, 'makes': 1, 'improvement': 1, 'athletics': 1, 'demonstrates': 1, 'governance': 1, 'matriculate': 1, 'historicallyblack': 1, 'indeed': 1, 'reasonable': 1, 'expects': 1, 'succeed': 8, 'pursuits': 2, 'somebody': 1, 'compete': 2, 'major': 2, 'spectrum': 2, '“where': 1, 'storytelling': 1, 'possible': 5, 'nyfa': 1, 'hone': 1, 'day': 1, 'propagates': 1, 'broadest': 1, 'purdue': 1, 'tailored': 1, 'flexibility': 3, 'essential': 3, 'creek': 1, 'empower': 6, 'embolden': 1, 'families': 2, 'cpt': 1, 'igu’s': 1, 'curricular': 1, 'careerrelated': 1, 'igu': 1, 'ongoing': 1, '100': 1, 'ideally': 1, 'los': 1, 'professionals—empowering': 1, 'situated': 1, 'skill': 1, 'wellinformed': 1, 'propels': 1, 'angeles': 1, 'otis': 1, 'cross': 2, 'apostolic': 3, 'image': 2, 'wholeness': 2, 'courage': 1, 'timeless': 1, 'applies': 1, 'brothers': 2, 'vermont': 2, 'nvu': 1, 'northern': 2, 'inclusion': 3, 'practicing': 1, 'innovators': 1, 'cornish': 1, 'lloyd': 1, 'promoting': 5, 'attitude': 1, 'alice': 1, 'fulltime': 1, 'appalachia': 1, 'situation': 1, 'selfreliance': 1, 'mountains': 2, 'encouraging': 1, 'possess': 2, 'regardless': 2, 'utilize': 1, 'making': 3, 'producing': 1, 'deserving': 1, 'sense': 3, 'emphasizing': 3, 'selfhelp': 1, 'financial': 2, 'waters': 1, 'gd': 1, 'jew': 1, 'mitzvoth': 1, 'xxviii': 1, 'perfect': 1, '9': 1, 'father': 1, 'ci': 1, 'prophecy': 1, 'chron': 1, 'attain': 4, 'filled': 2, 'know': 2, 'isaiah': 1, 'cover': 1, 'scranton': 1, 'freedom': 4, 'proceeding': 1, 'fundamental': 3, 'animated': 1, 'placing': 1, 'facilitates': 1, 'islands': 1, 'channel': 1, 'integrative': 1, 'charlotte': 2, 'vested': 1, 'methodistrelated': 1, 'demonstrated': 1, 'misenheimer': 1, 'propelled': 1, 'raleighdurham': 1, 'pfeiffer': 1, 'lifetime': 5, '1885': 2, 'fill': 2, 'concentrated': 1, 'scholar': 1, 'thinker': 1, 'sake': 1, 'refined': 1, '4to': 1, 'unity': 2, 'true': 3, 'spills': 1, 'briefly': 1, 'importance': 3, 'aware': 4, 'peers': 1, 'accordance': 1, 'pertaining': 1, 'limitation': 1, 'aarts': 1, 'laws': 1, 'forth': 1, 'requirements': 1, 'dept': 1, 'division': 2, 'ethics': 3, 'writings': 1, 'tractates': 1, 'code': 2, 'philosophy': 5, 'prophets': 1, 'temimah': 1, 'kesser': 1, 'supports': 3, 'xavier': 1, 'morally': 2, 'compassion': 4, 'reflection': 2, 'driven': 2, 'entry': 2, 'possibility': 1, 'ordination': 2, 'stewardship': 2, 'utah': 1, 'innovations': 1, 'generate': 1, '1988': 1, 'strict': 1, 'post': 1, 'select': 2, 'existed': 2, 'ii': 2, 'ideology': 1, 'novominsk': 1, 'inaugurated': 1, 'stresses': 2, 'basis': 3, 'deep': 1, 'adherence': 1, 'war': 1, 'european': 2, 'corps': 1, 'prior': 1, 'yeshivos': 2, 'secondary': 1, 'churchmissouri': 2, 'courageous': 1, 'barclay': 1, 'biblecentered': 1, 'vibrant': 2, 'production': 1, 'richmond': 1, 'torahmayan': 1, 'hatalmud': 1, 'keser': 1, 'approach': 8, 'warren': 1, 'college’s': 3, 'equitable': 1, 'exercises': 1, 'derived': 1, 'qualify': 1, 'stanford': 1, 'museums': 1, 'object': 1, 'direct': 1, 'grade': 1, 'reverence': 1, 'conservatories': 1, 'happiness': 1, 'man': 1, 'mechanical': 1, 'enlargement': 1, 'hereby': 1, 'behalf': 1, 'inalienable': 1, 'exercising': 1, 'civilization': 1, 'directed': 3, '11': 1, 'regulated': 1, 'november': 1, 'welfare': 1, 'institutes': 1, 'seminaries': 1, 'inculcating': 1, 'galleries': 1, 'laboratories': 1, 'branches': 1, 'blessings': 1, 'liberty': 1, 'httpexploredegreesstanfordedustanfordsmission': 1, 'equipped': 1, 'agents': 1, 'developed': 2, 'wilberforce': 1, 'thoughtleaders': 1, 'obtained': 1, 'imparting': 1, 'inspiring': 2, 'identifying': 1, 'discipline': 1, 'entrepreneurs': 1, 'responsive': 1, 'current': 2, 'sensitivity': 2, 'midsouth': 1, 'facilitating': 2, 'partnering': 1, 'raising': 1, 'beer': 2, 'gedola': 1, 'yisrael': 1, 'concern': 1, 'four': 1, 'aspires': 1, 'presbyterian': 2, 'retain': 1, 'involve': 1, 'inspiration': 1, 'residential': 4, 'translate': 2, 'imperatives': 1, 'beauty': 1, 'rhodes': 1, 'culturallybroadening': 1, 'memphis': 1, 'allen': 1, 'unalterable': 1, 'ranked': 1, 'siu': 1, 'exchange': 2, 'catalyst': 1, 'compass': 1, 'impacting': 1, 'stories': 1, 'godgifted': 1, 'cinematic': 1, 'interests': 2, 'governmental': 1, 'continue': 2, 'accomplishing': 1, 'collective': 2, 'enhances': 5, 'constitute': 1, 'invaluable': 1, 'frontiers': 1, 'industrial': 1, 'oldest': 2, 'respond': 4, 'broader': 2, 'prominent': 1, 'nation’s': 2, 'pledge': 1, 'prestige': 1, 'determined': 1, 'upgrading': 1, 'functions': 1, '1787': 1, 'adapted': 1, 'trustees': 3, 'university’s': 5, 'efforts': 1, 'transfer': 1, 'counted': 1, 'pennsylvanians': 1, 'pennsylvania': 3, 'cooperate': 1, 'pittsburgh': 1, 'connected': 1, 'control': 1, 'earning': 1, 'capitalist': 1, 'thrive': 3, 'bellevue': 1, 'powerful': 1, 'confidence': 1, 'market': 2, 'preschool': 1, 'combining': 3, 'communitybased': 1, 'complete': 1, 'missionary': 4, 'pursues': 1, 'alliance': 2, 'nyack': 1, 'virginia': 1, 'capitol': 1, 'prosperous': 1, 'tomchei': 1, 'lubavitz': 1, 'tmimim': 1, 'gwinnett’s': 1, 'anticipate': 1, 'increased': 1, 'northeast': 1, 'scheduling': 1, 'gwinnett': 1, 'ggc': 1, 'actively': 2, 'uncertain': 1, 'activelearning': 1, 'targeted': 1, 'advisors': 1, 'variety': 2, 'options': 1, 'contributing': 4, 'anywhere': 1, 'else': 1, 'magnificent': 1, 'honing': 1, 'artistically': 1, 'convert': 1, 'determination': 1, 'launching': 1, 'dreams': 1, 'vigor': 1, 'keys': 1, 'artist': 2, 'imagination': 1, 'phenomenal': 1, 'believe': 3, 'individually': 1, 'extraordinary': 1, 'conservatory': 2, 'spring': 1, 'arbor': 1, 'total': 1, 'governors': 1, 'postsecondary': 4, 'earn': 1, 'credentials': 1, 'competencybased': 1, 'credible': 1, 'callings': 1, 'relevance': 1, 'brandman': 1, 'beulah': 1, 'effectiveness': 1, 'distinctively': 1, 'hanniballagrange': 1, 'lord”': 1, 'result': 1, 'instills': 1, 'confession': 1, '“jesus': 1, 'divinity': 1, 'grace': 2, 'sound': 1, 'yaakov': 1, 'expanding': 1, 'immersed': 1, 'galen': 1, 'nursing': 1, 'dayanim': 1, 'wish': 2, 'functionaries': 1, 'authorities': 1, 'collegial': 3, 'wayne': 1, 'facultystaffstudent': 1, 'christlikeness': 1, 'hills': 1, 'homes': 1, 'centered': 2, 'oak': 1, 'selfdirection': 1, 'regard': 1, 'balance': 1, 'encouraged': 1, 'selffulfillment': 2, 'process': 2, 'prescott': 1, 'biosphere': 1, 'best': 2, 'bennington': 1, 'nurture': 3, 'imposed': 1, 'however': 1, 'served': 2, 'substitution': 1, 'intelligence': 1, 'selfrestraint': 1, 'sensual': 1, 'individuality': 1, 'less': 1, 'restraint': 1, 'regards': 1, 'regulation': 1, 'liberate': 2, 'absence': 1, 'habits': 2, 'civilized': 1, 'endowments': 1, 'fullest': 1, 'exercise': 1, 'richly': 2, 'membership': 1, 'rather': 1, 'constructive': 2, 'vcsu': 1, 'learnercentered': 1, 'dakota': 2, 'flexible': 3, 'resource': 2, 'randall': 1, 'fine': 2, 'pafa': 1, 'power': 2, 'canon': 1, 'josephinum': 1, 'consists': 1, 'founder': 1, 'congregation': 1, 'two': 1, 'clergy': 1, 'priests': 1, 'nuncio': 1, 'shares': 1, 'msgr': 1, 'fidelity': 2, 'laity': 1, 'candidates': 2, 'pontifical': 1, 'governed': 2, 'immediately': 1, 'divisions': 2, 'wider': 1, 'jessing': 1, 'evangelization': 1, 'charitable': 1, 'fund': 1, 'chesed': 1, 'therefrom': 1, 'corporation': 1, 'furtherance': 1, 'aid': 2, 'lawful': 1, 'groups': 2, 'toras': 2, 'thereof': 1, 'philosophical': 1, 'income': 1, 'discussions': 1, 'funds': 1, 'historical': 2, 'organize': 1, 'accomplish': 2, 'concert': 1, 'inculcate': 2, 'limitations': 1, 'exclusively': 1, 'generally': 1, 'increase': 1, 'restrictions': 1, 'malone': 1, 'yeshivath': 1, 'viznitz': 1, 'characterized': 2, 'baldwin': 1, 'fulfills': 2, 'wallace': 1, 'boundaries': 1, 'differences': 2, 'problems': 4, 'empowered': 1, 'lebanon': 1, 'delivered': 2, 'certificate': 2, 'shenandoah': 1, 'abiding': 3, 'coalesce': 1, 'voorhees': 1, 'healthy': 1, 'baker': 1, 'assuring': 1, 'honors': 2, 'corporate': 1, 'initiatives': 1, 'umbc': 1, 'k16': 1, 'policy': 2, 'disciple': 1, 'fruitful': 1, 'ambassadors': 1, 'plant': 1, 'rim': 1, 'win': 2, 'souls': 1, 'sul': 1, 'surroundings': 1, 'border': 1, 'usmexico': 1, 'bend': 1, 'big': 1, 'regions': 2, 'ross': 1, 'questions': 1, 'unwind': 1, 'techniques': 2, 'contemplate': 1, 'stud': 1, 'transmit': 1, 'outlets': 1, 'temper': 1, 'mans': 1, 'yisroel': 1, 'awe': 1, 'desire': 3, 'lecturers': 1, 'introspective': 1, 'schedule': 1, 'yet': 2, 'asheville': 1, '17': 1, 'class': 3, 'highimpact': 1, 'sizes': 3, 'unc': 1, 'carolina’s': 1, 'asheville’s': 1, 'nonsectarian': 1, 'curricula': 1, '2004': 1, 'interconnected': 1, 'april': 1, '23': 1, 'bridgeport': 1, 'victories': 1, 'linked': 1, 'component': 1, 'manifestations': 1, 'antioch': 1, 'belief': 2, 'strengthened': 1, 'self': 1, 'doors': 1, 'aspirations': 3, 'philadelphia': 1, 'temple': 1, 'leesmcrae': 1, 'freedmans': 1, '1866': 1, 'rust': 1, 'math': 1, 'computer': 1, 'collaborations': 1, 'originators': 1, 'digital': 2, 'furthers': 1, 'teambased': 1, 'digipen': 1, 'dillards': 1, 'dillard': 1, 'broadly': 1, 'demands': 1, 'concerned': 2, 'improving': 2, 'able': 1, 'morningside': 1, 'lemoyneowen': 1, 'vatican': 1, 'settings': 1, 'takes': 2, 'witness': 1, 'role': 3, 'indispensable': 1, 'sponsorship': 1, 'ecclesiae': 1, 'ex': 1, 'maria': 1, 'greater': 2, 'dialogue': 1, 'informs': 1, 'ordinary': 1, 'call': 1, 'venice': 1, 'societal': 2, 'corde': 1, 'response': 1, 'virtues': 1, 'ave': 1, 'constitution': 1, 'reason': 1, 'uats': 1, 'premier': 3, 'innovate': 1, 'association': 2, 'schools': 6, 'empowering': 4, 'affirming': 1, 'salle': 1, 'lasallian': 1, 'marked': 1, 'primarily': 1, 'stages': 1, 'cedar': 1, 'crest': 1, 'gifted': 1, 'exceptionally': 1, 'musicians': 1, 'artistry': 1, 'laguna': 1, 'acquisition': 1, 'studio': 1, 'observation': 1, 'concept': 2, 'imaginatively': 1, 'sharing': 2, 'exhibition': 1, 'ethnically': 1, 'representation': 1, 'combine': 2, 'fouryear': 3, 'instructional': 1, 'modalities': 1, 'jarvis': 1, 'langston': 1, 'mitzvos': 1, 'pass': 1, 'due': 2, 'roles': 4, 'ner': 1, 'choose': 2, 'mesorah': 1, 'whatever': 1, 'centrality': 1, 'hameir': 1, 'southwestern': 2, 'dickinson': 2, 'especially': 1, 'huntingdon': 1, 'multiple': 2, 'nontraditional': 2, 'foundational': 2, '“divine': 1, '1844': 1, 'fathers': 1, 'embody': 1, 'codes': 1, 'jersey': 1, 'caldwell': 1, 'guzman': 1, '1939': 1, 'dominic': 1, 'welcomes': 1, 'de': 1, 'tested': 1, 'africa': 1, 'raised': 1, 'affairs': 2, 'past': 1, 'arrive': 1, 'encompassing': 1, 'always': 1, 'cope': 1, 'stand': 1, 'europe': 1, 'spend': 1, 'former': 1, 'mark': 1, 'expected': 1, 'parts': 1, 'involved': 2, 'stead': 1, 'hallmark': 1, 'born': 1, 'canada': 1, 'renowned': 1, 'member': 2, 'emanate': 1, 'view': 1, 'limited': 1, 'manner': 2, 'giving': 2, 'extensions': 1, 'taught': 1, 'credit': 1, 'composers': 1, 'msm': 1, 'music’s': 1, 'york’s': 1, 'manhattan': 1, 'abundant': 1, 'advantage': 1, 'school’s': 1, 'performers': 1, 'challenged': 1, 'adrian': 1, 'michigan': 1, 'oakland': 1, 'read': 1, 'worlds': 2, 'occupations': 1, 'franklin': 1, 'meaningfully': 1, 'genuine': 1, 'marshall': 1, 'promise': 1, 'write': 2, 'doctrinal': 1, 'authority': 1, 'like': 1, 'humphreys': 1, 'drivon': 1, 'combination': 2, 'varying': 1, 'strongly': 1, 'mercy': 1, 'aloysius': 1, 'reflects': 1, 'orientation': 1, 'judeochristian': 1, 'attitudes': 1, 'davis': 1, 'addressing': 2, 'faced': 1, 'equity': 1, 'uc': 1, 'moreover': 1, 'attracting': 1, 'cadre': 1, 'interest': 2, 'howard': 1, 'standing': 1, 'propagation': 1, 'holiness': 1, 'unchanging': 1, 'scriptural': 1, 'gadol': 1, 'bet': 1, 'ateret': 1, 'shachna': 1, 'sholom': 1, 'physically': 1, 'nourishes': 1, 'adaptive': 1, 'society’s': 1, 'one’s': 1, 'binyomin': 1, 'studentfocused': 1, 'respected': 1, 'puerto': 1, 'humanistic': 2, 'productivity': 1, 'different': 1, 'competitiveness': 1, 'rico': 1, 'polytechnic': 1, 'exposure': 1, 'elizabeth': 1, 'constituent': 1, 'safeguarding': 1, 'compelling': 1, 'mental': 1, 'churchrelated': 1, 'contribution': 2, 'vocational': 1, 'framework': 1, 'ensures': 1, 'webster': 1, 'knowledgeable': 1, 'ecological': 1, 'ministerial': 1, 'accord': 1, 'confessions': 1, 'martin': 1, 'faithfully': 1, 'book': 1, 'wels': 1, 'luther': 1, 'concord': 1, 'synods': 1, 'exemplifying': 1, 'hospitality': 1, 'blessing': 1, 'guided': 3, 'prayer': 1, 'glorified': 1, 'trine': 1, 'formative': 1, 'delaware': 2, 'purposefully': 2, 'arkansas': 1, 'louis': 1, 'rural': 2, 'suburban': 1, 'native': 1, 'jerusalem': 1, 'guiding': 2, 'mesivtha': 1, 'facilities': 1, 'paul': 1, 'gods': 1, 'around': 1, 'westcliff': 1, 'establishment': 1, 'posthigh': 1, 'rockaway': 1, 'policies': 1, 'devote': 2, 'towns': 1, 'dovid': 1, 'far': 1, 'sees': 1, 'exhibits': 1, 'beis': 1, 'heichal': 1, 'sincere': 1, 'upward': 1, 'pace': 1, 'we’re': 1, 'wwwpaceeduvisionmission': 1, 'ambitious': 1, 'realworld': 3, 'hardworking': 1, 'driving': 1, 'launched': 1, 'country’s': 1, 'ridge': 1, 'crowleys': 1, 'autonomous': 1, 'comprises': 1, 'commuter': 1, 'continual': 1, 'msu': 1, 'stateassisted': 1, 'seagrant': 1, 'views': 1, 'carries': 1, 'nonprofit': 2, 'line': 1, '1743': 1, 'privately': 1, 'span': 1, 'increasing': 1, 'globe': 1, 'ud': 1, 'manifested': 1, '1833': 1, 'requires': 1, 'disseminating': 1, 'ideas': 1, 'chartered': 1, 'guidance': 1, 'lenoirrhyne': 1, 'personality': 1, 'discerned': 1, 'clarify': 1, '1933': 1, 'caliber': 1, 'accomplishments': 1, 'measures': 1, 'speak': 1, 'key': 1, 'uniformly': 1, 'coker': 1, 'enjoyed': 1, 'analytically': 2, 'preachers': 1, 'hcu': 1, 'illinois': 2, 'explicitly': 1, 'created': 1, 'william': 1, 'carey': 1, 'namesake': 1, 'boise': 1, 'integral': 1, 'accomplishment': 2, 'kalamazoo': 1, 'leyma': 1, 'creativity”': 1, 'scripps': 1, 'intellects': 1, '“to': 1, 'investigate': 1, 'singularly': 1, 'models': 1, 'biblebased': 1, 'messenger': 1, 'efficiently': 1, 'enlarging': 1, 'mentoring': 1, 'savvy': 1, 'drawing': 1, 'painting': 1, 'turning': 1, 'overall': 1, 'illustrators': 1, 'top': 1, 'todays': 1, 'lab': 1, 'working': 1, 'tenants': 1, 'publishing': 1, 'leave': 1, 'videogame': 1, 'craft': 1, 'firms': 1, 'advertising': 1, 'expect': 1, 'entertainment': 1, 'philosopy': 1, 'profession': 1, 'industries': 2, 'ready': 1, 'gemini': 1, 'edge': 1, 'professionallevel': 1, 'realized': 1, 'cutting': 1, 'everglades': 1, 'researchbased': 1, 'pharmaceutical': 1, 'energy': 1, 'impacts': 1, 'idaho': 1, 'greensboro': 1, 'assemblies': 1, 'wherever': 1, 'evangelistic': 1, 'evangel': 1, 'spiritempowered': 1, 'assessment': 1, 'selfdirected': 1, 'collegiate': 1, 'edison': 1, 'upstate': 1, 'liberally': 1, 'solving': 1, 'separately': 1, 'statutory': 1, 'solid': 1, 'emerges': 1, 'domains': 1, 'unifying': 1, 'spoken': 1, 'elucidate': 1, 'traditionally': 1, 'found': 1, 'arises': 1, 'situations': 1, 'murray': 1, 'usually': 1, 'priority': 1, 'openminded': 1, 'places': 2, 'invest': 1, 'doctorates': 1, 'smaller': 1, '18county': 1, 'blending': 1, 'mentored': 1, 'often': 1, 'experienced': 1, 'studentteacher': 1, 'midwestern': 1, 'godcalled': 1, 'bac': 1, 'newberry': 1, 'celebrates': 1, 'mitchell': 1, 'minds': 1, 'john': 1, 'patrick': 1, 'augustana': 1, 'smallcollege': 1, 'energies': 1, 'largeuniversity': 1, 'lauderdale': 1, 'castleton': 1, 'businesses': 1, 'numerous': 2, 'environmentally': 1, 'outsidetheclassroom': 1, '18th': 1, 'churchatlarge': 1, 'biblicallybased': 1, 'crown': 1, 'hodges': 1, 'institution—prepares': 1, 'university—a': 1, 'leverage': 1, 'lesley': 1, 'catalysts': 1, 'birminghamsouthern': 1, 'positively': 1, 'link': 1, 'witsmaalot': 1, 'valuesoriented': 1, 'stimulated': 1, 'wits': 1, 'valuescentered': 1, 'perpetuation': 1, 'indepth': 1, 'women’s': 1, 'home': 1, 'english': 1, 'coursework': 1, 'language': 1, 'wits’': 1, 'broadbased': 1, 'composition': 1, 'secular': 1, 'miami': 1, 'defining': 1, 'evergreen': 1, 'gateway': 1, 'monroe': 1, 'graduating': 1, 'godly': 1, 'inquiring': 1, 'distinction': 1, 'narrative': 1, 'strengths': 1, 'medical': 1, 'ui': 1, 'inclusiveness': 1, 'unlock': 1, 'extends': 1, 'resilience': 1, 'motivates': 1, 'stem': 1, 'heal': 1, 'heartland': 1, 'hopkins': 1, 'george': 1, 'clarity': 1, 'fox': 1}\n"
          ]
        }
      ]
    },
    {
      "cell_type": "code",
      "source": [
        "def word_idf(dicOfWords, numberOfDocs):\n",
        "  \"\"\"This function takes in a dictonary of words and its frequency, calculates its IDF, and return it a dictionary with each word as the key and tf-idf values as the value.\"\"\"\n",
        "  # dicOfWords should be: wordDic from the word_frequency function\n",
        "  \n",
        "  # calculate inverse of each word and makes a new dictionary with it\n",
        "  idfDic = {}\n",
        "  for w in dicOfWords:\n",
        "    value = dicOfWords[w]\n",
        "    inverse = np.log(numberOfDocs/value)\n",
        "    idfDic[w] = inverse\n",
        "  \n",
        "  #returns dictionary of each word and their new weighted embeddings\n",
        "  print(len(idfDic))\n",
        "  return idfDic"
      ],
      "metadata": {
        "id": "3exKU-5DSQB0"
      },
      "execution_count": null,
      "outputs": []
    },
    {
      "cell_type": "code",
      "source": [
        "idf = word_idf(wordDic, 389)"
      ],
      "metadata": {
        "colab": {
          "base_uri": "https://localhost:8080/"
        },
        "id": "8mn6YK7VSTIR",
        "outputId": "a5ce37be-3371-4202-93fd-889e60ad9bea"
      },
      "execution_count": null,
      "outputs": [
        {
          "output_type": "stream",
          "name": "stdout",
          "text": [
            "2772\n"
          ]
        }
      ]
    },
    {
      "cell_type": "code",
      "source": [
        "def calculate_tfidf_weighted_embedding(listOfWords, idfDic):\n",
        "  \"\"\"This function calculates the word embedding of the listOfWords (mission statement) and returns the average word embedding using the weighted word average list.\"\"\"\n",
        "  # listOfWords should be the individual mission statements\n",
        "  #idfDic should be the dictionary with each word's respective idf\n",
        "\n",
        "  #calculate the tf (how many times the term appears in the mission statement) for mission statement\n",
        "  wordDic = {}\n",
        "  for words in listOfWords:\n",
        "    # adds word in as key with value 1\n",
        "    if (words not in wordDic):\n",
        "      wordDic[words] = 1 \n",
        "    # increase value if sees word again\n",
        "    else:\n",
        "      wordDic[words] += 1\n",
        "\n",
        "  #calculate and return a dictionary with each word in the mission statement and their tf-idf values\n",
        "  tfidfDic = {}\n",
        "  for w in idfDic:\n",
        "    if w in wordDic:\n",
        "      idf = idfDic[w]\n",
        "      tf = wordDic[w]\n",
        "      tfidf = idf*tf\n",
        "      tfidfDic[w] = tfidf\n",
        "  \n",
        "  #calculated weighted embeddings\n",
        "  newList = []\n",
        "  for w in listOfWords:\n",
        "    #checks if w is in both newlist and tfidfdic \n",
        "    if (w in words_with_embeddings) and w in tfidfDic:\n",
        "      newList += [w]\n",
        "        \n",
        "  if len(listOfWords) == 0:\n",
        "      return None\n",
        "  \n",
        "  return sum([embeddings[w]*tfidfDic[w] for w in newList])/len(listOfWords)"
      ],
      "metadata": {
        "id": "LDDs2YS7SVFB"
      },
      "execution_count": null,
      "outputs": []
    },
    {
      "cell_type": "code",
      "source": [
        "mission_statement = 'Boston College was founded in 1863 by the Society of Jesus (the Jesuits) to educate Boston’s predominantly Irish, Catholic immigrant community. It opened its doors on September 5, 1864, in a building on Harrison Avenue in Boston’s South End, a small streetcar college for commuting students. When it outgrew the limitations of the space, then-president Rev. Thomas I. Gasson, S.J., bought 31 acres of the former Lawrence Farm in Chestnut Hill, Massachusetts, and broke ground in 1909 on a new campus, today fondly known as the Heights. BC began as an undergraduate liberal arts college, but as its aspirations grew, it added graduate programs and professional schools fulfilling its charter as a university.'"
      ],
      "metadata": {
        "id": "uSLd9bTGV58f"
      },
      "execution_count": null,
      "outputs": []
    },
    {
      "cell_type": "code",
      "source": [
        "calculate_tfidf_weighted_embedding(clean(mission_statement), idf)"
      ],
      "metadata": {
        "colab": {
          "base_uri": "https://localhost:8080/"
        },
        "id": "lC4sIHwUSXdr",
        "outputId": "f60b795e-c933-47df-9728-1692e0ab9153"
      },
      "execution_count": null,
      "outputs": [
        {
          "output_type": "execute_result",
          "data": {
            "text/plain": [
              "array([ 1.33040160e-01,  7.43449330e-02,  4.90354374e-02,  1.01876922e-01,\n",
              "       -9.72299054e-02, -1.13919787e-02, -2.00068951e+00, -2.40835324e-02,\n",
              "       -1.00045286e-01,  1.51011229e-01,  1.06512308e-01,  3.78893353e-02,\n",
              "       -2.01741196e-02, -1.30857840e-01,  5.71837686e-02, -1.57147229e-01,\n",
              "        4.30384874e-02, -3.33257169e-02,  2.95615103e-02,  1.78992637e-02,\n",
              "        6.34853616e-02,  3.38694490e-02, -1.38834253e-01,  1.40734136e-01,\n",
              "       -1.21012079e-02, -9.03032813e-03,  1.18442707e-01,  5.97769860e-03,\n",
              "       -1.20611191e-01, -8.55118334e-02, -1.68977425e-01, -9.01536122e-02,\n",
              "       -3.06323986e-04, -4.31827269e-02, -8.60500857e-02,  7.45417103e-02,\n",
              "        3.16357687e-02, -5.04090730e-03, -1.16233908e-01, -1.39256492e-01,\n",
              "        4.49653342e-03, -1.70729727e-01,  1.46325901e-01,  4.80137430e-02,\n",
              "       -4.53421175e-02, -5.97847253e-02,  1.54624939e-01, -7.62414336e-02,\n",
              "       -8.50594863e-02,  7.03085912e-04,  1.08925058e-02,  1.52528942e-01,\n",
              "        7.67351538e-02,  3.76672484e-02,  7.31157362e-02, -1.55426383e-01,\n",
              "        8.25181305e-02, -1.02942385e-01, -2.14707538e-01,  7.21293688e-02,\n",
              "       -5.39588276e-03,  3.01193558e-02, -2.06565112e-02, -3.60755846e-02,\n",
              "       -5.41045815e-02, -8.05998296e-02,  4.44508642e-02, -1.11589916e-02,\n",
              "        1.44895747e-01,  1.02771837e-02, -2.92641521e-01, -5.38252853e-02,\n",
              "        2.73763873e-02, -2.22667381e-01,  6.27428666e-02, -2.04043955e-01,\n",
              "       -1.33689910e-01,  3.95580083e-02,  5.36727393e-03, -3.03786788e-02,\n",
              "       -2.26382865e-03, -6.35565102e-01, -9.93010104e-02, -8.36701691e-02,\n",
              "        3.40787740e-03,  6.87079458e-03,  1.77380741e-01, -7.46594891e-02,\n",
              "        4.93785590e-02,  1.39627993e-01, -2.72069499e-02, -8.38626921e-02,\n",
              "        1.61028635e-02, -9.46052670e-02, -1.95933171e-02, -1.02505237e-01,\n",
              "       -1.99046183e+00,  9.89603400e-02,  6.19178563e-02,  6.74311519e-02,\n",
              "        3.38582173e-02,  9.68200713e-02,  6.15553595e-02, -1.06841244e-01,\n",
              "       -2.74302764e-03,  7.46712536e-02,  7.69882500e-02, -3.18637341e-02,\n",
              "        5.02032936e-02,  7.70637617e-02, -1.25535414e-01,  1.50673762e-01,\n",
              "        7.96332806e-02,  9.52648893e-02, -1.36378594e-02, -2.81316508e-02,\n",
              "        7.41330441e-03,  1.30821466e-01,  1.62449464e-01,  2.24807430e-02,\n",
              "       -1.47413224e-01,  5.98003604e-02, -1.01221597e-03, -1.05907200e-02,\n",
              "        6.95456564e-02,  2.69400496e-02,  8.44217241e-02, -2.48066410e-02,\n",
              "        1.94191597e-02,  1.35626093e-01,  1.22456878e-01,  8.91607329e-02,\n",
              "        6.50446117e-02,  1.29597053e-01,  2.23190233e-01, -5.15743420e-02,\n",
              "        2.13165939e-01,  1.35328723e-02,  5.63500971e-02,  3.71270478e-01,\n",
              "       -6.62296116e-02,  2.68042902e-04, -1.17237702e-01,  9.05845687e-03,\n",
              "        5.35467565e-02, -2.09217407e-02,  9.41150039e-02, -1.71447806e-02,\n",
              "        2.32521389e-02,  7.24415667e-03, -1.15552470e-02, -1.14864387e-01,\n",
              "        1.17404433e-02,  3.35117280e-02, -8.45737979e-02, -7.44143426e-02,\n",
              "       -1.35981925e-02, -2.39126422e-02, -1.97459772e-01, -7.16575831e-02,\n",
              "       -6.65016323e-02,  1.23204663e-02, -6.52875602e-02, -9.55577865e-02,\n",
              "       -8.06514919e-02,  6.25991300e-02,  8.68066549e-02, -3.27745825e-02,\n",
              "        2.07624838e-01, -1.87870473e-01,  6.70422167e-02,  1.45163685e-01,\n",
              "       -4.84855957e-02, -9.15250704e-02, -1.11733447e-03,  9.23172478e-03,\n",
              "       -9.97592807e-02,  2.66851038e-02,  8.56785178e-02, -1.31305950e-02,\n",
              "       -1.00591242e-01,  2.42258102e-01,  1.90636218e-01, -2.13916879e-02,\n",
              "       -1.15778156e-01, -1.04815168e-02, -9.78790224e-04, -2.95655336e-02,\n",
              "       -2.56869961e-02,  2.26571560e-02,  5.39907105e-02, -3.80107127e-02,\n",
              "        1.67662263e-01, -9.04042050e-02,  4.07020412e-02, -1.21042222e-01,\n",
              "       -1.26254275e-01,  1.12861805e-01, -7.33285099e-02,  1.34286299e-01,\n",
              "        3.20601789e-03,  3.48425657e-02,  1.55355394e-01,  1.14549890e-01,\n",
              "        5.51992245e-02,  5.84598258e-03,  1.25771880e-01,  9.63536426e-02,\n",
              "        7.13296467e-03,  4.07806523e-02, -3.91172618e-02, -1.20103821e-01,\n",
              "       -1.44095197e-01, -1.95003301e-01, -3.80457528e-02,  1.56133860e-01,\n",
              "       -1.55652419e-01,  1.02075994e-01, -1.21932536e-01,  1.33655053e-02,\n",
              "       -1.04950741e-01,  2.92023029e-02, -1.30446568e-01, -1.28315836e-01,\n",
              "       -2.54993725e+00, -6.63986616e-03,  1.30393729e-03,  7.39491805e-02,\n",
              "        5.26624545e-02, -8.84257723e-03, -2.48527601e-02,  1.30989864e-01,\n",
              "        9.57476050e-02, -5.16633801e-02, -3.85705195e-02,  1.07580252e-01,\n",
              "        4.65655439e-02,  2.83710286e-02, -5.32151712e-03,  1.72872152e-02,\n",
              "       -1.12587418e-02,  1.00746602e-01, -1.20067187e-01,  2.47115582e-01,\n",
              "       -1.06545113e-01,  1.17048606e-01,  1.96261425e-02, -2.19511449e-01,\n",
              "       -1.95134617e-02, -7.68502653e-02, -1.62410103e-02, -1.77716166e-02,\n",
              "        1.52030990e-01, -3.11892424e-02, -3.07304692e-02, -9.88654792e-02,\n",
              "       -4.90236133e-02, -1.13096200e-01,  5.17830849e-02, -1.40574891e-02,\n",
              "        9.80708655e-03,  4.34412025e-02,  3.73311341e-02,  4.25700173e-02,\n",
              "        7.26084709e-02, -3.51791233e-02, -1.48339450e-01,  3.03679332e-03,\n",
              "        3.35812792e-02,  5.51480986e-02,  8.12820643e-02, -8.26587342e-03,\n",
              "        2.46032532e-02,  9.20327008e-02,  7.43419230e-02,  1.93087548e-01,\n",
              "        5.63174337e-02, -1.72406286e-02, -1.56886782e-02,  1.59392700e-01,\n",
              "        1.61560252e-02,  5.36072766e-03, -5.49672693e-02, -2.63110902e-02,\n",
              "       -1.30516365e-01,  1.11163564e-01, -1.37478625e-02,  1.03753479e-02,\n",
              "       -4.65620272e-02,  1.68157056e-01,  6.42730519e-02, -1.14124060e-01,\n",
              "       -1.08831674e-01, -7.71167055e-02,  5.64812496e-02, -5.66379493e-03,\n",
              "        4.77630347e-02, -4.16934304e-02,  1.67326331e-01, -1.05105594e-01],\n",
              "      dtype=float32)"
            ]
          },
          "metadata": {},
          "execution_count": 10
        }
      ]
    }
  ]
}