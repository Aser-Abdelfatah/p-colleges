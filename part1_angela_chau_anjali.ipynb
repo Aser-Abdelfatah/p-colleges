{
  "nbformat": 4,
  "nbformat_minor": 0,
  "metadata": {
    "colab": {
      "provenance": [],
      "include_colab_link": true
    },
    "kernelspec": {
      "name": "python3",
      "display_name": "Python 3"
    },
    "language_info": {
      "name": "python"
    }
  },
  "cells": [
    {
      "cell_type": "markdown",
      "metadata": {
        "id": "view-in-github",
        "colab_type": "text"
      },
      "source": [
        "<a href=\"https://colab.research.google.com/github/TiloRC/p-colleges/blob/main/part1_angela_chau_anjali.ipynb\" target=\"_parent\"><img src=\"https://colab.research.google.com/assets/colab-badge.svg\" alt=\"Open In Colab\"/></a>"
      ]
    },
    {
      "cell_type": "code",
      "execution_count": 20,
      "metadata": {
        "id": "0LCcpUq-2sru",
        "colab": {
          "base_uri": "https://localhost:8080/"
        },
        "outputId": "5f3eb8b2-994f-449a-c33e-d71718af067d"
      },
      "outputs": [
        {
          "output_type": "stream",
          "name": "stderr",
          "text": [
            "[nltk_data] Downloading package stopwords to /root/nltk_data...\n",
            "[nltk_data]   Package stopwords is already up-to-date!\n"
          ]
        },
        {
          "output_type": "stream",
          "name": "stdout",
          "text": [
            "--2023-02-21 17:00:47--  http://nlp.stanford.edu/data/glove.42B.300d.zip\n",
            "Resolving nlp.stanford.edu (nlp.stanford.edu)... 171.64.67.140\n",
            "Connecting to nlp.stanford.edu (nlp.stanford.edu)|171.64.67.140|:80... connected.\n",
            "HTTP request sent, awaiting response... 302 Found\n",
            "Location: https://nlp.stanford.edu/data/glove.42B.300d.zip [following]\n",
            "--2023-02-21 17:00:47--  https://nlp.stanford.edu/data/glove.42B.300d.zip\n",
            "Connecting to nlp.stanford.edu (nlp.stanford.edu)|171.64.67.140|:443... connected.\n",
            "HTTP request sent, awaiting response... 301 Moved Permanently\n",
            "Location: https://downloads.cs.stanford.edu/nlp/data/glove.42B.300d.zip [following]\n",
            "--2023-02-21 17:00:47--  https://downloads.cs.stanford.edu/nlp/data/glove.42B.300d.zip\n",
            "Resolving downloads.cs.stanford.edu (downloads.cs.stanford.edu)... 171.64.64.22\n",
            "Connecting to downloads.cs.stanford.edu (downloads.cs.stanford.edu)|171.64.64.22|:443... connected.\n",
            "HTTP request sent, awaiting response... 200 OK\n",
            "Length: 1877800501 (1.7G) [application/zip]\n",
            "Saving to: ‘glove.42B.300d.zip’\n",
            "\n",
            "glove.42B.300d.zip  100%[===================>]   1.75G  4.98MB/s    in 5m 52s  \n",
            "\n",
            "2023-02-21 17:06:40 (5.08 MB/s) - ‘glove.42B.300d.zip’ saved [1877800501/1877800501]\n",
            "\n",
            "Archive:  glove.42B.300d.zip\n",
            "  inflating: glove.42B.300d.txt      \n"
          ]
        }
      ],
      "source": [
        "import pandas as pd\n",
        "import numpy as np\n",
        "import pandas as pd\n",
        "from scipy import spatial\n",
        "import string\n",
        "import nltk\n",
        "nltk.download('stopwords')\n",
        "from nltk.corpus import stopwords\n",
        "\n",
        "#import word embedding \n",
        "!wget http://nlp.stanford.edu/data/glove.42B.300d.zip\n",
        "!unzip glove.42B.300d.zip\n",
        "\n",
        "\n",
        "#import csv here"
      ]
    },
    {
      "cell_type": "code",
      "source": [
        "# text imported from csv file\n",
        "\n",
        "mission_statement = 'Boston College was founded in 1863 by the Society of Jesus (the Jesuits) to educate Boston’s predominantly Irish, Catholic immigrant community. It opened its doors on September 5, 1864, in a building on Harrison Avenue in Boston’s South End, a small streetcar college for commuting students. When it outgrew the limitations of the space, then-president Rev. Thomas I. Gasson, S.J., bought 31 acres of the former Lawrence Farm in Chestnut Hill, Massachusetts, and broke ground in 1909 on a new campus, today fondly known as the Heights. BC began as an undergraduate liberal arts college, but as its aspirations grew, it added graduate programs and professional schools fulfilling its charter as a university.'"
      ],
      "metadata": {
        "id": "KfzNCGOJ3jBk"
      },
      "execution_count": 5,
      "outputs": []
    },
    {
      "cell_type": "code",
      "source": [
        "#naming word embedding data \n",
        "!head -n 1000 glove.42B.300d.txt > top_1000.txt"
      ],
      "metadata": {
        "id": "4dy28ty07TfC"
      },
      "execution_count": 21,
      "outputs": []
    },
    {
      "cell_type": "code",
      "source": [
        "embeddings = {}\n",
        "with open('top_1000.txt', 'r') as f:\n",
        "    for line in f:\n",
        "        values = line.split()\n",
        "        word = values[0]\n",
        "        vector = np.asarray(values[1:], \"float32\")\n",
        "        embeddings[word] = vector\n",
        "        \n",
        "words_with_embeddings = set([w for w in embeddings])"
      ],
      "metadata": {
        "id": "pfUePG4F4RvU"
      },
      "execution_count": 22,
      "outputs": []
    },
    {
      "cell_type": "code",
      "source": [
        "# function 1: changing text to a list of words, removing punctuation and stop words\n",
        "\n",
        "def clean(text):\n",
        "     # clean description\n",
        "    text.translate(str.maketrans('', '', string.punctuation))\n",
        "    description = text.lower().strip()\n",
        "    words = description.split(\" \")\n",
        "    stops = set(stopwords.words('english'))\n",
        "    \n",
        "    # filter out stop words\n",
        "    words = [w for w in words if not w in stops]\n",
        "\n",
        "    return words"
      ],
      "metadata": {
        "id": "QIl9qrFI388t"
      },
      "execution_count": 17,
      "outputs": []
    },
    {
      "cell_type": "code",
      "source": [
        "clean(mission_statement)"
      ],
      "metadata": {
        "colab": {
          "base_uri": "https://localhost:8080/"
        },
        "id": "DZHsnvHg5IO1",
        "outputId": "d81ab0f0-f385-481a-f965-7433b210799a"
      },
      "execution_count": 18,
      "outputs": [
        {
          "output_type": "execute_result",
          "data": {
            "text/plain": [
              "['boston',\n",
              " 'college',\n",
              " 'founded',\n",
              " '1863',\n",
              " 'society',\n",
              " 'jesus',\n",
              " '(the',\n",
              " 'jesuits)',\n",
              " 'educate',\n",
              " 'boston’s',\n",
              " 'predominantly',\n",
              " 'irish,',\n",
              " 'catholic',\n",
              " 'immigrant',\n",
              " 'community.',\n",
              " 'opened',\n",
              " 'doors',\n",
              " 'september',\n",
              " '5,',\n",
              " '1864,',\n",
              " 'building',\n",
              " 'harrison',\n",
              " 'avenue',\n",
              " 'boston’s',\n",
              " 'south',\n",
              " 'end,',\n",
              " 'small',\n",
              " 'streetcar',\n",
              " 'college',\n",
              " 'commuting',\n",
              " 'students.',\n",
              " 'outgrew',\n",
              " 'limitations',\n",
              " 'space,',\n",
              " 'then-president',\n",
              " 'rev.',\n",
              " 'thomas',\n",
              " 'i.',\n",
              " 'gasson,',\n",
              " 's.j.,',\n",
              " 'bought',\n",
              " '31',\n",
              " 'acres',\n",
              " 'former',\n",
              " 'lawrence',\n",
              " 'farm',\n",
              " 'chestnut',\n",
              " 'hill,',\n",
              " 'massachusetts,',\n",
              " 'broke',\n",
              " 'ground',\n",
              " '1909',\n",
              " 'new',\n",
              " 'campus,',\n",
              " 'today',\n",
              " 'fondly',\n",
              " 'known',\n",
              " 'heights.',\n",
              " 'bc',\n",
              " 'began',\n",
              " 'undergraduate',\n",
              " 'liberal',\n",
              " 'arts',\n",
              " 'college,',\n",
              " 'aspirations',\n",
              " 'grew,',\n",
              " 'added',\n",
              " 'graduate',\n",
              " 'programs',\n",
              " 'professional',\n",
              " 'schools',\n",
              " 'fulfilling',\n",
              " 'charter',\n",
              " 'university.']"
            ]
          },
          "metadata": {},
          "execution_count": 18
        }
      ]
    },
    {
      "cell_type": "code",
      "source": [
        "#function 2:  takes the list of words, finds the word embeddings for each word, and finds the average word embedding for the list of words.\n",
        "\n",
        "def calculate_description_embedding(words):\n",
        "    words = [w for w in words if (w in words_with_embeddings)]\n",
        "    \n",
        "    if len(words) == 0:\n",
        "        return None\n",
        "    \n",
        "    # calculate embedding and return\n",
        "    return sum([embeddings[w] for w in words])/len(words)"
      ],
      "metadata": {
        "id": "sYO8bVnv6Gbg"
      },
      "execution_count": 25,
      "outputs": []
    },
    {
      "cell_type": "code",
      "source": [
        "#trying everything out \n",
        "\n",
        "calculate_description_embedding(clean(mission_statement))"
      ],
      "metadata": {
        "colab": {
          "base_uri": "https://localhost:8080/"
        },
        "id": "qjiltzUx9M0G",
        "outputId": "2848c185-fce2-4023-9c8e-91bb301a2c78"
      },
      "execution_count": 26,
      "outputs": [
        {
          "output_type": "execute_result",
          "data": {
            "text/plain": [
              "array([ 1.84989691e-01,  1.93366930e-02,  4.31921519e-02,  7.09259138e-02,\n",
              "       -9.34992582e-02, -3.05939987e-02, -2.67103839e+00, -3.45479921e-02,\n",
              "       -9.79426950e-02,  1.49330765e-01,  1.29831925e-01,  3.46163884e-02,\n",
              "       -3.61529291e-02, -1.84191540e-01,  5.36269285e-02, -1.96988001e-01,\n",
              "        8.61560777e-02, -5.47243133e-02,  5.85129932e-02, -4.92265608e-05,\n",
              "        6.01857901e-02,  5.49386963e-02, -2.04122066e-01,  7.01132268e-02,\n",
              "       -6.49646223e-02, -1.90628767e-02,  1.18121393e-01, -2.41043847e-02,\n",
              "       -1.39233142e-01, -1.55707389e-01, -2.13609442e-01, -7.87160695e-02,\n",
              "       -5.40600792e-02, -4.99307364e-02, -1.00462921e-01,  2.44797636e-02,\n",
              "        8.84719342e-02, -3.46962363e-02, -6.07541539e-02, -2.49404490e-01,\n",
              "       -3.82420793e-02, -1.81570157e-01,  8.77835304e-02,  3.64491493e-02,\n",
              "       -3.42600718e-02, -5.40132076e-02,  1.77946642e-01, -1.96846910e-02,\n",
              "       -4.72196899e-02,  1.46968821e-02,  1.65202899e-03,  2.36057535e-01,\n",
              "        3.50259915e-02,  8.05861689e-03,  1.35947227e-01, -1.40272453e-01,\n",
              "        4.53916192e-02, -1.00817457e-01, -2.12553650e-01,  1.40300930e-01,\n",
              "        3.68537754e-02,  2.92776059e-02, -6.00585379e-02, -4.70243879e-02,\n",
              "       -8.13136473e-02, -4.52289246e-02,  3.82703096e-02, -3.01206838e-02,\n",
              "        1.14188038e-01, -4.30677608e-02, -3.07045877e-01, -4.97212335e-02,\n",
              "        2.19086148e-02, -2.66579688e-01,  5.68055511e-02, -1.76592365e-01,\n",
              "       -9.04382467e-02,  8.59172344e-02,  5.54070882e-02, -1.25209421e-01,\n",
              "        2.84944139e-02, -8.31280053e-01, -1.37752220e-01, -1.07242800e-02,\n",
              "       -6.32406725e-03, -6.80772215e-02,  1.65437400e-01, -6.79515526e-02,\n",
              "        4.91357781e-02,  9.39735472e-02,  4.31219190e-02, -9.92449969e-02,\n",
              "        4.70129997e-02, -1.28667131e-01, -3.63185145e-02, -2.42503703e-01,\n",
              "       -2.61660004e+00,  2.10473225e-01,  4.03100476e-02,  2.68040039e-02,\n",
              "        1.16522275e-01,  5.58183827e-02,  1.02198690e-01, -1.34981528e-01,\n",
              "        4.44726609e-02,  1.04911491e-01,  4.61840704e-02, -4.87135313e-02,\n",
              "        9.47410911e-02,  7.42290094e-02, -1.96843073e-01,  1.60372227e-01,\n",
              "        1.40669912e-01,  8.17276910e-02, -3.85777690e-02, -8.57901275e-02,\n",
              "       -1.94184594e-02,  1.40805081e-01,  1.43956214e-01,  3.92497219e-02,\n",
              "       -5.61509319e-02,  8.44068602e-02, -2.52538291e-03,  1.96145363e-02,\n",
              "        6.26869276e-02,  7.95461461e-02,  1.17751926e-01, -3.98768820e-02,\n",
              "       -6.09236956e-02,  1.25770792e-01,  8.20026100e-02,  7.53143877e-02,\n",
              "        1.50081530e-01,  1.64933532e-01,  2.32703209e-01,  4.11666110e-02,\n",
              "        2.22604096e-01,  5.07034622e-02,  6.35012388e-02,  3.30156773e-01,\n",
              "       -1.35902613e-01,  2.58378256e-02, -1.09115921e-01,  4.44574356e-02,\n",
              "        1.35430694e-03,  3.93573046e-02,  4.96706143e-02,  3.82500188e-03,\n",
              "        6.71735406e-02,  1.49917351e-02, -6.41664565e-02, -8.74296874e-02,\n",
              "        3.93000059e-02,  3.19257230e-02, -9.02823210e-02, -7.45746940e-02,\n",
              "        7.09248483e-02, -8.26926157e-02, -2.21653372e-01, -8.67780745e-02,\n",
              "       -9.14797783e-02, -1.77384343e-03, -8.13007802e-02, -7.26061612e-02,\n",
              "       -1.24515645e-01,  7.84424245e-02,  2.88879890e-02, -1.08970232e-01,\n",
              "        2.41921008e-01, -2.14716166e-01,  6.40711635e-02,  1.42905980e-01,\n",
              "       -6.18259124e-02, -1.35130420e-01, -1.91607643e-02,  3.29068042e-02,\n",
              "       -1.49230927e-01,  5.00666164e-02,  9.03509185e-02,  2.80261040e-03,\n",
              "       -1.42832473e-01,  2.36651808e-01,  2.40643844e-01, -1.35618513e-02,\n",
              "       -1.64921224e-01, -5.70408441e-02,  5.06975390e-02,  4.67690006e-02,\n",
              "        5.85300196e-03, -3.03830002e-02,  4.50314693e-02, -7.54773170e-02,\n",
              "        1.81870311e-01, -1.56412154e-01,  8.71496126e-02, -4.77429479e-02,\n",
              "       -1.85714245e-01,  1.34803191e-01, -7.18888491e-02,  1.36537015e-01,\n",
              "       -9.91599821e-03,  3.06393094e-02,  1.39369696e-01,  1.55241519e-01,\n",
              "        1.56198472e-01,  8.99530854e-03,  1.50243700e-01,  1.09783851e-01,\n",
              "        1.69283319e-02,  5.97456060e-02, -3.84900756e-02, -1.10885650e-01,\n",
              "       -1.22610658e-01, -2.46179432e-01,  5.24593098e-03,  2.62232631e-01,\n",
              "       -1.29929587e-01,  5.85177727e-02, -1.53850824e-01,  2.20218915e-02,\n",
              "       -1.42909765e-01,  3.62823084e-02, -1.42961398e-01, -6.04200773e-02,\n",
              "       -2.93636155e+00,  1.92023697e-03, -6.05814233e-02,  6.59974515e-02,\n",
              "        7.52599314e-02,  4.39681560e-02,  1.31146889e-02,  1.09107696e-01,\n",
              "        8.22504610e-02, -4.45066951e-02, -4.24865335e-02,  1.38020217e-01,\n",
              "        2.71928888e-02,  5.73040880e-02,  1.09414645e-02,  8.39615390e-02,\n",
              "       -1.93714921e-03,  1.40529364e-01, -1.57315552e-01,  2.16297865e-01,\n",
              "       -1.27288222e-01,  1.07053623e-01, -4.55406979e-02, -3.13585341e-01,\n",
              "        3.70475389e-02, -1.46971062e-01,  2.28230748e-02, -4.56423126e-02,\n",
              "        1.86452314e-01, -2.99704596e-02, -3.57809402e-02, -1.39822826e-01,\n",
              "       -1.25825852e-01, -1.45865142e-01,  1.16335005e-01, -7.19248503e-02,\n",
              "        8.47432315e-02,  3.70978899e-02,  2.16682479e-02,  2.53934655e-02,\n",
              "        1.27406716e-02, -1.00001007e-01, -2.00270161e-01,  1.58716105e-02,\n",
              "       -6.89001605e-02,  1.06441617e-01,  4.10041958e-02, -6.36285394e-02,\n",
              "        2.67184805e-03,  1.53992996e-01,  1.39507309e-01,  1.91628277e-01,\n",
              "        9.88909304e-02, -2.64684670e-02,  2.86466791e-04,  2.73465306e-01,\n",
              "       -5.25654592e-02,  5.75098731e-02, -1.13316089e-01, -3.04114297e-02,\n",
              "       -1.59788743e-01,  1.53987467e-01, -4.00104672e-02,  2.00530067e-02,\n",
              "       -4.06038389e-02,  1.96154594e-01,  4.40754555e-02, -1.97469860e-01,\n",
              "       -1.30808145e-01, -8.63012373e-02,  8.38175565e-02, -6.95840791e-02,\n",
              "        1.25034386e-02, -6.14529997e-02,  1.85879841e-01, -1.96594615e-02],\n",
              "      dtype=float32)"
            ]
          },
          "metadata": {},
          "execution_count": 26
        }
      ]
    }
  ]
}