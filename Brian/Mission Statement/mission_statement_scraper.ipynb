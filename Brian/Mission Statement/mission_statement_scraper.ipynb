{
 "cells": [
  {
   "cell_type": "code",
   "execution_count": 81,
   "metadata": {},
   "outputs": [],
   "source": [
    "import pandas as pd\n",
    "import csv\n",
    "import numpy as np\n",
    "import requests\n",
    "from bs4 import BeautifulSoup\n"
   ]
  },
  {
   "cell_type": "code",
   "execution_count": 82,
   "metadata": {},
   "outputs": [
    {
     "data": {
      "text/html": [
       "<div>\n",
       "<style scoped>\n",
       "    .dataframe tbody tr th:only-of-type {\n",
       "        vertical-align: middle;\n",
       "    }\n",
       "\n",
       "    .dataframe tbody tr th {\n",
       "        vertical-align: top;\n",
       "    }\n",
       "\n",
       "    .dataframe thead th {\n",
       "        text-align: right;\n",
       "    }\n",
       "</style>\n",
       "<table border=\"1\" class=\"dataframe\">\n",
       "  <thead>\n",
       "    <tr style=\"text-align: right;\">\n",
       "      <th></th>\n",
       "      <th>Institution Name</th>\n",
       "      <th>Mission statement (IC2020mission)</th>\n",
       "      <th>Mission statement URL (if mission statement not provided) (IC2020mission)</th>\n",
       "    </tr>\n",
       "  </thead>\n",
       "  <tbody>\n",
       "    <tr>\n",
       "      <th>0</th>\n",
       "      <td>Abilene Christian University</td>\n",
       "      <td>NaN</td>\n",
       "      <td>www.acu.edu/about/past-present-future/who-we-a...</td>\n",
       "    </tr>\n",
       "    <tr>\n",
       "      <th>1</th>\n",
       "      <td>Abilene Christian University-Undergraduate Online</td>\n",
       "      <td>NaN</td>\n",
       "      <td>NaN</td>\n",
       "    </tr>\n",
       "    <tr>\n",
       "      <th>2</th>\n",
       "      <td>Abraham Lincoln University</td>\n",
       "      <td>NaN</td>\n",
       "      <td>www.alu.edu/about/alu-mission/</td>\n",
       "    </tr>\n",
       "    <tr>\n",
       "      <th>3</th>\n",
       "      <td>Academy College</td>\n",
       "      <td>Academy College’s mission is to provide our st...</td>\n",
       "      <td>NaN</td>\n",
       "    </tr>\n",
       "    <tr>\n",
       "      <th>4</th>\n",
       "      <td>Academy of Art University</td>\n",
       "      <td>NaN</td>\n",
       "      <td>www.academyart.edu/about-us</td>\n",
       "    </tr>\n",
       "  </tbody>\n",
       "</table>\n",
       "</div>"
      ],
      "text/plain": [
       "                                    Institution Name  \\\n",
       "0                       Abilene Christian University   \n",
       "1  Abilene Christian University-Undergraduate Online   \n",
       "2                         Abraham Lincoln University   \n",
       "3                                    Academy College   \n",
       "4                          Academy of Art University   \n",
       "\n",
       "                   Mission statement (IC2020mission)  \\\n",
       "0                                                NaN   \n",
       "1                                                NaN   \n",
       "2                                                NaN   \n",
       "3  Academy College’s mission is to provide our st...   \n",
       "4                                                NaN   \n",
       "\n",
       "  Mission statement URL (if mission statement not provided) (IC2020mission)  \n",
       "0  www.acu.edu/about/past-present-future/who-we-a...                         \n",
       "1                                                NaN                         \n",
       "2                     www.alu.edu/about/alu-mission/                         \n",
       "3                                                NaN                         \n",
       "4                        www.academyart.edu/about-us                         "
      ]
     },
     "execution_count": 82,
     "metadata": {},
     "output_type": "execute_result"
    }
   ],
   "source": [
    "df = pd.read_csv('Data_2-14-2023.csv')\n",
    "\n",
    "# some cleaning up\n",
    "df = df.drop('UnitID', axis=1)\n",
    "df = df.drop('Unnamed: 4', axis=1)\n",
    "df.head()"
   ]
  },
  {
   "cell_type": "code",
   "execution_count": 91,
   "metadata": {},
   "outputs": [],
   "source": [
    "def get_mission(url):\n",
    "    if not url.startswith(\"http://\") and not url.startswith(\"https://\"):\n",
    "        url = \"https://\" + url\n",
    "    print(url)\n",
    "    response = requests.get(url)\n",
    "\n",
    "    soup = BeautifulSoup(response.content, 'html.parser')\n",
    "    the_text = None\n",
    "\n",
    "    mission_statement = soup.find(text='Mission Statement')\n",
    "    if mission_statement is None:\n",
    "        mission_statement = soup.find(text='Our Mission')\n",
    "    if mission_statement is None:\n",
    "        mission_statement = soup.find(text='mission-statement')\n",
    "\n",
    "    print(mission_statement)\n",
    "    if not mission_statement is None:\n",
    "        the_text = mission_statement.find_next_sibling('p')\n",
    "        print(the_text)\n",
    "\n",
    "    if the_text is not None:\n",
    "        return the_text.get_text()\n",
    "    else:\n",
    "        return None\n"
   ]
  },
  {
   "cell_type": "code",
   "execution_count": 96,
   "metadata": {},
   "outputs": [
    {
     "name": "stdout",
     "output_type": "stream",
     "text": [
      "https://academicprograms.calpoly.edu/cal-poly-mission-statement\n",
      "None\n"
     ]
    }
   ],
   "source": [
    "get_mission('https://academicprograms.calpoly.edu/cal-poly-mission-statement')"
   ]
  },
  {
   "cell_type": "code",
   "execution_count": 78,
   "metadata": {},
   "outputs": [
    {
     "name": "stdout",
     "output_type": "stream",
     "text": [
      "Our Mission\n",
      "None\n",
      "['Abilene Christian University', None]\n"
     ]
    }
   ],
   "source": [
    "with open('output.csv', 'w', newline='') as csvfile:\n",
    "    fieldnames = ['Institution Name', 'Mission statement (IC2020mission)']\n",
    "    writer = csv.DictWriter(csvfile, fieldnames=fieldnames)\n",
    "    writer.writeheader()  # write the header row\n",
    "\n",
    "    for row in df.values:\n",
    "        # print(row)\n",
    "        # print(row[0], row[1], row[2])\n",
    "        insert_row = [row[0]]\n",
    "        if str(row[1]) == 'nan':\n",
    "            # print(row[2], type(row[2]))\n",
    "            insert_row.append(get_mission(row[2]))\n",
    "        else:\n",
    "            insert_row.append(row[1])\n",
    "        print(insert_row)\n",
    "        break\n"
   ]
  }
 ],
 "metadata": {
  "kernelspec": {
   "display_name": "Python 3",
   "language": "python",
   "name": "python3"
  },
  "language_info": {
   "codemirror_mode": {
    "name": "ipython",
    "version": 3
   },
   "file_extension": ".py",
   "mimetype": "text/x-python",
   "name": "python",
   "nbconvert_exporter": "python",
   "pygments_lexer": "ipython3",
   "version": "3.10.5"
  },
  "orig_nbformat": 4,
  "vscode": {
   "interpreter": {
    "hash": "51923b56f38a5b3424ee861e1200c08869906ff2215aafed0340f54392de6f99"
   }
  }
 },
 "nbformat": 4,
 "nbformat_minor": 2
}
