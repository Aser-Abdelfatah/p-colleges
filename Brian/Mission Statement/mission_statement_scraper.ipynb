{
 "cells": [
  {
   "cell_type": "code",
   "execution_count": 14,
   "metadata": {},
   "outputs": [],
   "source": [
    "import pandas as pd\n",
    "import csv\n",
    "import numpy as np\n",
    "import requests\n",
    "from bs4 import BeautifulSoup\n"
   ]
  },
  {
   "cell_type": "code",
   "execution_count": 15,
   "metadata": {},
   "outputs": [
    {
     "data": {
      "text/html": [
       "<div>\n",
       "<style scoped>\n",
       "    .dataframe tbody tr th:only-of-type {\n",
       "        vertical-align: middle;\n",
       "    }\n",
       "\n",
       "    .dataframe tbody tr th {\n",
       "        vertical-align: top;\n",
       "    }\n",
       "\n",
       "    .dataframe thead th {\n",
       "        text-align: right;\n",
       "    }\n",
       "</style>\n",
       "<table border=\"1\" class=\"dataframe\">\n",
       "  <thead>\n",
       "    <tr style=\"text-align: right;\">\n",
       "      <th></th>\n",
       "      <th>Institution Name</th>\n",
       "      <th>Mission statement (IC2020mission)</th>\n",
       "      <th>Mission statement URL (if mission statement not provided) (IC2020mission)</th>\n",
       "    </tr>\n",
       "  </thead>\n",
       "  <tbody>\n",
       "    <tr>\n",
       "      <th>0</th>\n",
       "      <td>Abilene Christian University</td>\n",
       "      <td>NaN</td>\n",
       "      <td>www.acu.edu/about/past-present-future/who-we-a...</td>\n",
       "    </tr>\n",
       "    <tr>\n",
       "      <th>1</th>\n",
       "      <td>Abilene Christian University-Undergraduate Online</td>\n",
       "      <td>NaN</td>\n",
       "      <td>NaN</td>\n",
       "    </tr>\n",
       "    <tr>\n",
       "      <th>2</th>\n",
       "      <td>Abraham Lincoln University</td>\n",
       "      <td>NaN</td>\n",
       "      <td>www.alu.edu/about/alu-mission/</td>\n",
       "    </tr>\n",
       "    <tr>\n",
       "      <th>3</th>\n",
       "      <td>Academy College</td>\n",
       "      <td>Academy College’s mission is to provide our st...</td>\n",
       "      <td>NaN</td>\n",
       "    </tr>\n",
       "    <tr>\n",
       "      <th>4</th>\n",
       "      <td>Academy of Art University</td>\n",
       "      <td>NaN</td>\n",
       "      <td>www.academyart.edu/about-us</td>\n",
       "    </tr>\n",
       "  </tbody>\n",
       "</table>\n",
       "</div>"
      ],
      "text/plain": [
       "                                    Institution Name  \\\n",
       "0                       Abilene Christian University   \n",
       "1  Abilene Christian University-Undergraduate Online   \n",
       "2                         Abraham Lincoln University   \n",
       "3                                    Academy College   \n",
       "4                          Academy of Art University   \n",
       "\n",
       "                   Mission statement (IC2020mission)  \\\n",
       "0                                                NaN   \n",
       "1                                                NaN   \n",
       "2                                                NaN   \n",
       "3  Academy College’s mission is to provide our st...   \n",
       "4                                                NaN   \n",
       "\n",
       "  Mission statement URL (if mission statement not provided) (IC2020mission)  \n",
       "0  www.acu.edu/about/past-present-future/who-we-a...                         \n",
       "1                                                NaN                         \n",
       "2                     www.alu.edu/about/alu-mission/                         \n",
       "3                                                NaN                         \n",
       "4                        www.academyart.edu/about-us                         "
      ]
     },
     "execution_count": 15,
     "metadata": {},
     "output_type": "execute_result"
    }
   ],
   "source": [
    "df = pd.read_csv('Data_2-14-2023.csv')\n",
    "\n",
    "# some cleaning up\n",
    "df = df.drop('UnitID', axis=1)\n",
    "df = df.drop('Unnamed: 4', axis=1)\n",
    "df.head()"
   ]
  },
  {
   "cell_type": "code",
   "execution_count": 61,
   "metadata": {},
   "outputs": [],
   "source": [
    "def get_mission(url, word_list):\n",
    "    try:\n",
    "        if not url.startswith(\"http://\") and not url.startswith(\"https://\"):\n",
    "            url = \"https://\" + url\n",
    "\n",
    "        response = requests.get(url)\n",
    "        soup = BeautifulSoup(response.content, 'html.parser')\n",
    "\n",
    "        # mission statements usually contain the name of the college.\n",
    "        # we will return the first paragraph instance where the name is mentioned\n",
    "        for p_tag in soup.find_all('p'):\n",
    "            p_text = p_tag.get_text()\n",
    "            if all(word.lower() in p_text.lower() for word in word_list):\n",
    "                p_text = p_tag.get_text(strip=True)\n",
    "                p_text = p_text.replace('�', \"'\")\n",
    "                p_text = p_text.replace(',', '')\n",
    "                p_text = p_text.replace('\\n', \"'\")\n",
    "                return p_text\n",
    "        return None\n",
    "    except:\n",
    "        print(\"too many damn requests\")\n",
    "        return None\n"
   ]
  },
  {
   "cell_type": "code",
   "execution_count": 62,
   "metadata": {},
   "outputs": [],
   "source": [
    "def drop_unneeded_text(name):\n",
    "    unneeded_words = ['university', 'college', 'christian', 'institute', 'of', 'and', 'state', '-', 'the']\n",
    "    words = name.lower().split()\n",
    "    words_filtered = [word.replace(\"-\", \" \") for word in words if word not in map(str.lower, unneeded_words)]\n",
    "\n",
    "    list_of_words = []\n",
    "    for word in words_filtered:\n",
    "        for indiv_word in word.split():\n",
    "            list_of_words.append(indiv_word)\n",
    "    return list_of_words\n"
   ]
  },
  {
   "cell_type": "code",
   "execution_count": 65,
   "metadata": {},
   "outputs": [
    {
     "name": "stdout",
     "output_type": "stream",
     "text": [
      "too many damn requests\n",
      "too many damn requests\n",
      "too many damn requests\n",
      "too many damn requests\n"
     ]
    },
    {
     "name": "stderr",
     "output_type": "stream",
     "text": [
      "Some characters could not be decoded, and were replaced with REPLACEMENT CHARACTER.\n"
     ]
    },
    {
     "name": "stdout",
     "output_type": "stream",
     "text": [
      "too many damn requests\n",
      "too many damn requests\n",
      "too many damn requests\n",
      "too many damn requests\n",
      "too many damn requests\n",
      "too many damn requests\n",
      "too many damn requests\n",
      "too many damn requests\n",
      "too many damn requests\n",
      "too many damn requests\n",
      "too many damn requests\n",
      "too many damn requests\n",
      "too many damn requests\n",
      "too many damn requests\n",
      "too many damn requests\n",
      "too many damn requests\n",
      "too many damn requests\n",
      "too many damn requests\n",
      "too many damn requests\n",
      "too many damn requests\n",
      "too many damn requests\n",
      "too many damn requests\n",
      "too many damn requests\n",
      "too many damn requests\n",
      "too many damn requests\n",
      "too many damn requests\n",
      "too many damn requests\n"
     ]
    },
    {
     "name": "stderr",
     "output_type": "stream",
     "text": [
      "Some characters could not be decoded, and were replaced with REPLACEMENT CHARACTER.\n"
     ]
    },
    {
     "name": "stdout",
     "output_type": "stream",
     "text": [
      "too many damn requests\n",
      "too many damn requests\n",
      "too many damn requests\n",
      "too many damn requests\n",
      "too many damn requests\n"
     ]
    },
    {
     "name": "stderr",
     "output_type": "stream",
     "text": [
      "Some characters could not be decoded, and were replaced with REPLACEMENT CHARACTER.\n",
      "Some characters could not be decoded, and were replaced with REPLACEMENT CHARACTER.\n"
     ]
    },
    {
     "name": "stdout",
     "output_type": "stream",
     "text": [
      "too many damn requests\n",
      "too many damn requests\n"
     ]
    },
    {
     "name": "stderr",
     "output_type": "stream",
     "text": [
      "c:\\Users\\brian\\AppData\\Local\\Programs\\Python\\Python310\\lib\\site-packages\\bs4\\builder\\__init__.py:545: XMLParsedAsHTMLWarning: It looks like you're parsing an XML document using an HTML parser. If this really is an HTML document (maybe it's XHTML?), you can ignore or filter this warning. If it's XML, you should know that using an XML parser will be more reliable. To parse this document as XML, make sure you have the lxml package installed, and pass the keyword argument `features=\"xml\"` into the BeautifulSoup constructor.\n",
      "  warnings.warn(\n"
     ]
    },
    {
     "name": "stdout",
     "output_type": "stream",
     "text": [
      "too many damn requests\n",
      "too many damn requests\n",
      "too many damn requests\n"
     ]
    }
   ],
   "source": [
    "with open('output.csv', 'w', newline='', encoding='utf-8') as csvfile:\n",
    "    fieldnames = ['Institution Name', 'Mission statement (IC2020mission)']\n",
    "    writer = csv.DictWriter(csvfile, fieldnames=fieldnames)\n",
    "    writer.writeheader()  # write the header row\n",
    "\n",
    "    for row in df.values:\n",
    "        insert_row = {}\n",
    "        if str(row[1]) == 'nan' and not str(row[2]) == 'nan':\n",
    "            insert_row['Institution Name'] = row[0]\n",
    "            insert_row['Mission statement (IC2020mission)'] = get_mission(row[2], drop_unneeded_text(row[0]))\n",
    "        else:\n",
    "            insert_row['Institution Name'] = row[0]\n",
    "            insert_row['Mission statement (IC2020mission)'] = row[1]\n",
    "        # print(insert_row)\n",
    "        try:\n",
    "            writer.writerow(insert_row)\n",
    "        except:\n",
    "            insert_row['Mission statement (IC2020mission)'] = 'nan'\n",
    "            writer.writerow()\n",
    "        \n",
    "    \n"
   ]
  },
  {
   "cell_type": "code",
   "execution_count": null,
   "metadata": {},
   "outputs": [],
   "source": []
  }
 ],
 "metadata": {
  "kernelspec": {
   "display_name": "Python 3",
   "language": "python",
   "name": "python3"
  },
  "language_info": {
   "codemirror_mode": {
    "name": "ipython",
    "version": 3
   },
   "file_extension": ".py",
   "mimetype": "text/x-python",
   "name": "python",
   "nbconvert_exporter": "python",
   "pygments_lexer": "ipython3",
   "version": "3.10.5"
  },
  "orig_nbformat": 4,
  "vscode": {
   "interpreter": {
    "hash": "51923b56f38a5b3424ee861e1200c08869906ff2215aafed0340f54392de6f99"
   }
  }
 },
 "nbformat": 4,
 "nbformat_minor": 2
}
