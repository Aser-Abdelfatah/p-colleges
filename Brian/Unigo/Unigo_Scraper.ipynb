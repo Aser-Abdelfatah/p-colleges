{
 "cells": [
  {
   "cell_type": "code",
   "execution_count": 1,
   "metadata": {},
   "outputs": [],
   "source": [
    "import requests\n",
    "from bs4 import BeautifulSoup\n",
    "import re"
   ]
  },
  {
   "cell_type": "code",
   "execution_count": 3,
   "metadata": {},
   "outputs": [],
   "source": [
    "url = \"https://www.unigo.com/colleges/university-of-southern-california\"\n",
    "\n",
    "response = requests.get(url)\n",
    "html = response.text\n",
    "\n",
    "soup = BeautifulSoup(html, \"html.parser\")"
   ]
  },
  {
   "cell_type": "code",
   "execution_count": 8,
   "metadata": {},
   "outputs": [
    {
     "data": {
      "text/plain": [
       "4.36752136752135"
      ]
     },
     "execution_count": 8,
     "metadata": {},
     "output_type": "execute_result"
    }
   ],
   "source": [
    "def getOverallScore(soup):\n",
    "    star_rating = soup.find('div', {'class': 'col-sm-2 star-rating'})\n",
    "    percentage = star_rating.find('div', {'class': 'front-stars'})['style']\n",
    "    percentage = percentage.replace('width:', '').replace('%', '').strip()\n",
    "    return float(percentage) / 20 # out of 5\n",
    "\n",
    "getOverallScore(soup)"
   ]
  },
  {
   "cell_type": "code",
   "execution_count": 13,
   "metadata": {},
   "outputs": [
    {
     "data": {
      "text/plain": [
       "\"Founded in 1880, University of Southern California. is a Private college. Located in California, which is a city setting in California, the campus itself is Urban. The campus is home to 18,794 full time undergraduate students, and 25,077 full time graduate students.The University of Southern California Academic calendar runs on a Semester basis. In the  school year the student to faculty ratio was 9:1. There are 2062 full time instructional teachers. Degrees awarded at University of Southern California include: Bachelor's Degree, Masters Degree, Post-master's certificate, Doctor's degree.\""
      ]
     },
     "execution_count": 13,
     "metadata": {},
     "output_type": "execute_result"
    }
   ],
   "source": [
    "def aboutSchool(soup):\n",
    "    # pretty dumb way, but it works\n",
    "    aboutSchoolStr = \"\"\n",
    "    college_info_container = soup.find(\n",
    "        'div', {'class': 'college-general-information-container'})\n",
    "    h2_tags = college_info_container.find_all('h2')\n",
    "    info_paragraphs = []\n",
    "\n",
    "    if len(h2_tags) >= 2:\n",
    "        first_h2_tag = h2_tags[0]\n",
    "        second_h2_tag = h2_tags[1]\n",
    "\n",
    "        for sibling in first_h2_tag.next_siblings:\n",
    "            if sibling == second_h2_tag:\n",
    "                break\n",
    "            elif sibling.name == 'p':\n",
    "                info_paragraphs.append(sibling.get_text())\n",
    "\n",
    "    for p in info_paragraphs:\n",
    "        aboutSchoolStr += p\n",
    "    \n",
    "    return aboutSchoolStr\n",
    "\n",
    "\n",
    "aboutSchool(soup)\n"
   ]
  },
  {
   "cell_type": "code",
   "execution_count": 35,
   "metadata": {},
   "outputs": [],
   "source": [
    "# helper\n",
    "def get_second_number(lst):\n",
    "    second_num = None\n",
    "    for i in range(len(lst)):\n",
    "        try:\n",
    "            num = float(lst[i])\n",
    "            if i != 0:\n",
    "                second_num = num\n",
    "                break\n",
    "        except:\n",
    "            pass\n",
    "    return second_num"
   ]
  },
  {
   "cell_type": "code",
   "execution_count": 38,
   "metadata": {},
   "outputs": [
    {
     "name": "stdout",
     "output_type": "stream",
     "text": [
      "On-campus housing: 3.4\n",
      "Off-campus housing: 3.0\n",
      "Campus food: 3.6\n",
      "Campus facilities: 4.4\n",
      "Class size: 4.1\n",
      "School activities: 4.4\n",
      "Local services: 4.0\n",
      "Academics: 4.0\n"
     ]
    }
   ],
   "source": [
    "def seperateReviews(soup):\n",
    "    reviews_anchor_tag = soup.find(\n",
    "        'a', {'class': 'anchor-link', 'id': 'Reviews'})\n",
    "    if reviews_anchor_tag:\n",
    "        h4_tags = reviews_anchor_tag.find_all_next('h4')\n",
    "        for h4 in h4_tags:\n",
    "            h4_text = h4.get_text().strip()\n",
    "            if h4_text.startswith('How would you rate'):\n",
    "                h4_text = h4_text[len('How would you rate'):].strip()\n",
    "                h4_text = h4_text[:-1].strip().capitalize()\n",
    "                p_tag = h4.find_next_sibling('p')\n",
    "                if p_tag:\n",
    "                    p_text = p_tag.get_text().strip()\n",
    "                    individualReview = get_second_number(p_text.split())\n",
    "\n",
    "                    # housing_rating = float(p_text.split()[5])\n",
    "                    # print(f\"{h4_text}: {individualReview}\")\n",
    "                    print(f\"{h4_text}: {individualReview}\")\n",
    "                    \n",
    "                # print(h4_text)\n",
    "\n",
    "\n",
    "seperateReviews(soup)\n"
   ]
  },
  {
   "cell_type": "code",
   "execution_count": null,
   "metadata": {},
   "outputs": [],
   "source": []
  }
 ],
 "metadata": {
  "kernelspec": {
   "display_name": "Python 3",
   "language": "python",
   "name": "python3"
  },
  "language_info": {
   "codemirror_mode": {
    "name": "ipython",
    "version": 3
   },
   "file_extension": ".py",
   "mimetype": "text/x-python",
   "name": "python",
   "nbconvert_exporter": "python",
   "pygments_lexer": "ipython3",
   "version": "3.10.5"
  },
  "orig_nbformat": 4
 },
 "nbformat": 4,
 "nbformat_minor": 2
}
