{
 "cells": [
  {
   "cell_type": "code",
   "execution_count": 19,
   "metadata": {},
   "outputs": [
    {
     "name": "stdout",
     "output_type": "stream",
     "text": [
      "School Name University of California Los Angeles (UCLA)\n",
      "Overall quality score: 4.2\n",
      "Reputation score 4.6\n",
      "Location score 4.5\n",
      "Facilities score 4.4\n",
      "Food score 4.3\n",
      "Happiness score 4.2\n",
      "Opportunities score 4.2\n",
      "Clubs score 4.2\n",
      "Safety clubs 4.1\n",
      "Social score 4.1\n",
      "Internet score 4.0\n"
     ]
    }
   ],
   "source": [
    "import requests\n",
    "from bs4 import BeautifulSoup\n",
    "\n",
    "# ucla\n",
    "url = \"https://www.ratemyprofessors.com/campusRatings.jsp?sid=1075\"\n",
    "\n",
    "response = requests.get(url)\n",
    "html = response.text\n",
    "\n",
    "soup = BeautifulSoup(html, \"html.parser\")\n",
    "\n",
    "school_name = soup.find(\"div\", {\"class\": \"HeaderDescription__StyledTitleName-sc-1lt205f-1 eNxccF\"}).text.strip()\n",
    "overall_score = soup.find(\"div\", {\"class\": \"OverallRating__Number-y66epv-3 dXoyqn\"}).text.strip()\n",
    "reputation = soup.find(\"div\", {\"class\": \"CategoryGrade__CategoryTitle-sc-17vzv7e-1 XKroK\"}, text=\"Reputation\").find_next_sibling().text.strip()\n",
    "location = soup.find(\"div\", {\"class\": \"CategoryGrade__CategoryTitle-sc-17vzv7e-1 XKroK\"}, text=\"Location\").find_next_sibling().text.strip()\n",
    "facilities = soup.find(\"div\", {\"class\": \"CategoryGrade__CategoryTitle-sc-17vzv7e-1 XKroK\"}, text=\"Facilities\").find_next_sibling().text.strip()\n",
    "food = soup.find(\"div\", {\"class\": \"CategoryGrade__CategoryTitle-sc-17vzv7e-1 XKroK\"}, text=\"Food\").find_next_sibling().text.strip()\n",
    "happiness = soup.find(\"div\", {\"class\": \"CategoryGrade__CategoryTitle-sc-17vzv7e-1 XKroK\"}, text=\"Happiness\").find_next_sibling().text.strip()\n",
    "opportunities = soup.find(\"div\", {\"class\": \"CategoryGrade__CategoryTitle-sc-17vzv7e-1 XKroK\"}, text=\"Opportunities\").find_next_sibling().text.strip()\n",
    "clubs = soup.find(\"div\", {\"class\": \"CategoryGrade__CategoryTitle-sc-17vzv7e-1 XKroK\"}, text=\"Clubs\").find_next_sibling().text.strip()\n",
    "safety = soup.find(\"div\", {\"class\": \"CategoryGrade__CategoryTitle-sc-17vzv7e-1 XKroK\"}, text=\"Safety\").find_next_sibling().text.strip()\n",
    "social = soup.find(\"div\", {\"class\": \"CategoryGrade__CategoryTitle-sc-17vzv7e-1 XKroK\"}, text=\"Social\").find_next_sibling().text.strip()\n",
    "internet = soup.find(\"div\", {\"class\": \"CategoryGrade__CategoryTitle-sc-17vzv7e-1 XKroK\"}, text=\"Internet\").find_next_sibling().text.strip()\n",
    "\n",
    "\n",
    "# Print the overall quality score\n",
    "print(\"School Name\", school_name)\n",
    "print(\"Overall quality score:\", overall_score)\n",
    "print(\"Reputation score\", reputation)\n",
    "print(\"Location score\", location)\n",
    "print(\"Facilities score\", facilities)\n",
    "print(\"Food score\", food)\n",
    "print(\"Happiness score\", happiness)\n",
    "print(\"Opportunities score\", opportunities)\n",
    "print(\"Clubs score\", clubs)\n",
    "print(\"Safety clubs\", safety)\n",
    "print(\"Social score\", social)\n",
    "print(\"Internet score\", internet)"
   ]
  },
  {
   "cell_type": "code",
   "execution_count": null,
   "metadata": {},
   "outputs": [],
   "source": []
  }
 ],
 "metadata": {
  "kernelspec": {
   "display_name": "Python 3",
   "language": "python",
   "name": "python3"
  },
  "language_info": {
   "codemirror_mode": {
    "name": "ipython",
    "version": 3
   },
   "file_extension": ".py",
   "mimetype": "text/x-python",
   "name": "python",
   "nbconvert_exporter": "python",
   "pygments_lexer": "ipython3",
   "version": "3.10.5"
  },
  "orig_nbformat": 4
 },
 "nbformat": 4,
 "nbformat_minor": 2
}
