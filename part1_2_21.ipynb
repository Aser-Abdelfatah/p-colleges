{
  "cells": [
    {
      "cell_type": "markdown",
      "metadata": {
        "id": "view-in-github",
        "colab_type": "text"
      },
      "source": [
        "<a href=\"https://colab.research.google.com/github/TiloRC/p-colleges/blob/main/part1_2_21.ipynb\" target=\"_parent\"><img src=\"https://colab.research.google.com/assets/colab-badge.svg\" alt=\"Open In Colab\"/></a>"
      ]
    },
    {
      "cell_type": "code",
      "execution_count": 4,
      "metadata": {
        "colab": {
          "base_uri": "https://localhost:8080/"
        },
        "id": "0LCcpUq-2sru",
        "outputId": "821409d9-7ece-4168-9ee4-710c400a7957"
      },
      "outputs": [
        {
          "output_type": "stream",
          "name": "stderr",
          "text": [
            "[nltk_data] Downloading package stopwords to /root/nltk_data...\n",
            "[nltk_data]   Unzipping corpora/stopwords.zip.\n"
          ]
        },
        {
          "output_type": "stream",
          "name": "stdout",
          "text": [
            "--2023-02-22 04:55:55--  http://nlp.stanford.edu/data/glove.42B.300d.zip\n",
            "Resolving nlp.stanford.edu (nlp.stanford.edu)... 171.64.67.140\n",
            "Connecting to nlp.stanford.edu (nlp.stanford.edu)|171.64.67.140|:80... connected.\n",
            "HTTP request sent, awaiting response... 302 Found\n",
            "Location: https://nlp.stanford.edu/data/glove.42B.300d.zip [following]\n",
            "--2023-02-22 04:55:55--  https://nlp.stanford.edu/data/glove.42B.300d.zip\n",
            "Connecting to nlp.stanford.edu (nlp.stanford.edu)|171.64.67.140|:443... connected.\n",
            "HTTP request sent, awaiting response... 301 Moved Permanently\n",
            "Location: https://downloads.cs.stanford.edu/nlp/data/glove.42B.300d.zip [following]\n",
            "--2023-02-22 04:55:56--  https://downloads.cs.stanford.edu/nlp/data/glove.42B.300d.zip\n",
            "Resolving downloads.cs.stanford.edu (downloads.cs.stanford.edu)... 171.64.64.22\n",
            "Connecting to downloads.cs.stanford.edu (downloads.cs.stanford.edu)|171.64.64.22|:443... connected.\n",
            "HTTP request sent, awaiting response... 200 OK\n",
            "Length: 1877800501 (1.7G) [application/zip]\n",
            "Saving to: ‘glove.42B.300d.zip’\n",
            "\n",
            "glove.42B.300d.zip  100%[===================>]   1.75G  5.00MB/s    in 5m 53s  \n",
            "\n",
            "2023-02-22 05:01:49 (5.08 MB/s) - ‘glove.42B.300d.zip’ saved [1877800501/1877800501]\n",
            "\n",
            "Archive:  glove.42B.300d.zip\n",
            "  inflating: glove.42B.300d.txt      \n"
          ]
        }
      ],
      "source": [
        "import pandas as pd\n",
        "import numpy as np\n",
        "import pandas as pd\n",
        "from scipy import spatial\n",
        "import string\n",
        "import nltk\n",
        "nltk.download('stopwords')\n",
        "from nltk.corpus import stopwords\n",
        "\n",
        "#import word embedding \n",
        "!wget http://nlp.stanford.edu/data/glove.42B.300d.zip\n",
        "!unzip glove.42B.300d.zip\n",
        "\n",
        "\n",
        "#import csv here"
      ]
    },
    {
      "cell_type": "code",
      "execution_count": 1,
      "metadata": {
        "id": "KfzNCGOJ3jBk"
      },
      "outputs": [],
      "source": [
        "# text imported from csv file\n",
        "\n",
        "mission_statement = 'Boston College was founded in 1863 by the Society of Jesus (the Jesuits) to educate Boston’s predominantly Irish, Catholic immigrant community. It opened its doors on September 5, 1864, in a building on Harrison Avenue in Boston’s South End, a small streetcar college for commuting students. When it outgrew the limitations of the space, then-president Rev. Thomas I. Gasson, S.J., bought 31 acres of the former Lawrence Farm in Chestnut Hill, Massachusetts, and broke ground in 1909 on a new campus, today fondly known as the Heights. BC began as an undergraduate liberal arts college, but as its aspirations grew, it added graduate programs and professional schools fulfilling its charter as a university.'"
      ]
    },
    {
      "cell_type": "code",
      "execution_count": 5,
      "metadata": {
        "id": "4dy28ty07TfC"
      },
      "outputs": [],
      "source": [
        "#naming word embedding data \n",
        "!head -n 1000 glove.42B.300d.txt > top_1000.txt"
      ]
    },
    {
      "cell_type": "code",
      "execution_count": 6,
      "metadata": {
        "id": "pfUePG4F4RvU"
      },
      "outputs": [],
      "source": [
        "embeddings = {}\n",
        "with open('top_1000.txt', 'r') as f:\n",
        "    for line in f:\n",
        "        values = line.split()\n",
        "        word = values[0]\n",
        "        vector = np.asarray(values[1:], \"float32\")\n",
        "        embeddings[word] = vector\n",
        "        \n",
        "words_with_embeddings = set([w for w in embeddings])"
      ]
    },
    {
      "cell_type": "code",
      "execution_count": 7,
      "metadata": {
        "id": "QIl9qrFI388t"
      },
      "outputs": [],
      "source": [
        "# function 1: changing text to a list of words, removing punctuation and stop words\n",
        "\n",
        "def clean(text):\n",
        "     # clean description\n",
        "    text = text.translate(str.maketrans('', '', string.punctuation))\n",
        "    description = text.lower().strip()\n",
        "    words = description.split(\" \")\n",
        "    stops = set(stopwords.words('english'))\n",
        "    \n",
        "    # filter out stop words\n",
        "    words = [w for w in words if not w in stops]\n",
        "\n",
        "    return words"
      ]
    },
    {
      "cell_type": "code",
      "execution_count": 8,
      "metadata": {
        "colab": {
          "base_uri": "https://localhost:8080/"
        },
        "id": "DZHsnvHg5IO1",
        "outputId": "c6bbec0e-7276-4e61-aa28-2ef035f54875"
      },
      "outputs": [
        {
          "output_type": "execute_result",
          "data": {
            "text/plain": [
              "['boston',\n",
              " 'college',\n",
              " 'founded',\n",
              " '1863',\n",
              " 'society',\n",
              " 'jesus',\n",
              " 'jesuits',\n",
              " 'educate',\n",
              " 'boston’s',\n",
              " 'predominantly',\n",
              " 'irish',\n",
              " 'catholic',\n",
              " 'immigrant',\n",
              " 'community',\n",
              " 'opened',\n",
              " 'doors',\n",
              " 'september',\n",
              " '5',\n",
              " '1864',\n",
              " 'building',\n",
              " 'harrison',\n",
              " 'avenue',\n",
              " 'boston’s',\n",
              " 'south',\n",
              " 'end',\n",
              " 'small',\n",
              " 'streetcar',\n",
              " 'college',\n",
              " 'commuting',\n",
              " 'students',\n",
              " 'outgrew',\n",
              " 'limitations',\n",
              " 'space',\n",
              " 'thenpresident',\n",
              " 'rev',\n",
              " 'thomas',\n",
              " 'gasson',\n",
              " 'sj',\n",
              " 'bought',\n",
              " '31',\n",
              " 'acres',\n",
              " 'former',\n",
              " 'lawrence',\n",
              " 'farm',\n",
              " 'chestnut',\n",
              " 'hill',\n",
              " 'massachusetts',\n",
              " 'broke',\n",
              " 'ground',\n",
              " '1909',\n",
              " 'new',\n",
              " 'campus',\n",
              " 'today',\n",
              " 'fondly',\n",
              " 'known',\n",
              " 'heights',\n",
              " 'bc',\n",
              " 'began',\n",
              " 'undergraduate',\n",
              " 'liberal',\n",
              " 'arts',\n",
              " 'college',\n",
              " 'aspirations',\n",
              " 'grew',\n",
              " 'added',\n",
              " 'graduate',\n",
              " 'programs',\n",
              " 'professional',\n",
              " 'schools',\n",
              " 'fulfilling',\n",
              " 'charter',\n",
              " 'university']"
            ]
          },
          "metadata": {},
          "execution_count": 8
        }
      ],
      "source": [
        "clean(mission_statement)"
      ]
    },
    {
      "cell_type": "code",
      "execution_count": 9,
      "metadata": {
        "id": "sYO8bVnv6Gbg"
      },
      "outputs": [],
      "source": [
        "#function 2:  takes the list of words, finds the word embeddings for each word, and finds the average word embedding for the list of words.\n",
        "\n",
        "def calculate_description_embedding(words):\n",
        "    words = [w for w in words if (w in words_with_embeddings)]\n",
        "    \n",
        "    if len(words) == 0:\n",
        "        return None\n",
        "    \n",
        "    # calculate embedding and return\n",
        "    return sum([embeddings[w] for w in words])/len(words)"
      ]
    },
    {
      "cell_type": "code",
      "execution_count": 10,
      "metadata": {
        "id": "qjiltzUx9M0G",
        "colab": {
          "base_uri": "https://localhost:8080/"
        },
        "outputId": "4a185ec0-f6b4-476e-fb63-f7325d33d499"
      },
      "outputs": [
        {
          "output_type": "execute_result",
          "data": {
            "text/plain": [
              "array([ 1.64934635e-01,  8.02451395e-04,  6.58733025e-02,  1.13067850e-01,\n",
              "       -6.50401115e-02, -6.05343990e-02, -2.66159964e+00, -8.27084575e-03,\n",
              "       -8.71689916e-02,  2.72100031e-01,  1.43851072e-01,  2.90367492e-02,\n",
              "       -5.52493520e-02, -1.79541737e-01,  3.16190086e-02, -1.81497008e-01,\n",
              "        7.37204403e-02, -8.93247575e-02,  8.89947861e-02, -1.52596999e-02,\n",
              "        8.11388865e-02,  4.57387529e-02, -1.45120606e-01,  6.92828074e-02,\n",
              "       -6.32399991e-02,  3.64514701e-02,  1.31202906e-01, -2.02618577e-02,\n",
              "       -1.06508039e-01, -1.95963815e-01, -2.50266194e-01, -1.43782049e-01,\n",
              "       -2.43723504e-02, -1.77329164e-02, -8.34675580e-02,  5.37730940e-02,\n",
              "        6.60079047e-02,  2.07518488e-02, -1.22441635e-01, -2.25599915e-01,\n",
              "       -4.12253998e-02, -1.96464494e-01,  1.84656262e-01, -2.64744051e-02,\n",
              "       -5.18063493e-02, -8.15782323e-02,  2.09267065e-01, -3.02445944e-02,\n",
              "       -1.46972565e-02, -2.48539764e-02, -1.40603038e-03,  2.79947907e-01,\n",
              "        9.26445350e-02,  1.74430013e-02,  1.67828560e-01, -1.52563423e-01,\n",
              "        9.18445140e-02, -5.22001497e-02, -2.83588856e-01,  1.13145754e-01,\n",
              "        1.70135498e-02,  6.30710497e-02,  8.90295394e-03, -9.54863504e-02,\n",
              "       -2.67843157e-02,  9.90369357e-03,  3.12007014e-02,  7.57855410e-03,\n",
              "        1.58881977e-01, -4.37788442e-02, -3.02730948e-01, -1.41580790e-01,\n",
              "        2.94179432e-02, -3.32408041e-01,  5.92673533e-02, -2.46671155e-01,\n",
              "       -9.60898846e-02,  5.09609058e-02,  4.16937545e-02, -3.54508795e-02,\n",
              "       -4.37754802e-02, -7.59025931e-01, -8.40254277e-02, -3.35697234e-02,\n",
              "        5.90863526e-02, -2.98504834e-03,  1.74017549e-01, -9.26286951e-02,\n",
              "        1.10311210e-01,  1.31533757e-01,  4.92252521e-02, -6.80914968e-02,\n",
              "       -1.45776998e-02, -1.41899467e-01, -6.07371926e-02, -1.39982969e-01,\n",
              "       -2.65388036e+00,  1.28497601e-01,  6.62440360e-02,  1.28300264e-01,\n",
              "       -1.21562090e-02,  6.60385489e-02,  1.19090341e-01, -1.69800207e-01,\n",
              "        1.46452291e-02,  7.13424161e-02,  8.81071985e-02, -1.11071095e-01,\n",
              "        5.33568077e-02,  9.29976553e-02, -2.23846942e-01,  2.13662937e-01,\n",
              "        1.37589842e-01,  1.23543993e-01,  1.36309518e-02, -1.97122283e-02,\n",
              "       -1.10599600e-01,  1.72529131e-01,  2.15773776e-01,  3.41959186e-02,\n",
              "       -1.16209008e-01,  9.51928571e-02, -1.43991113e-02, -4.69830707e-02,\n",
              "        1.04805529e-01,  7.74718449e-02,  1.54571742e-01, -2.08079536e-02,\n",
              "       -1.53780011e-02,  1.87230915e-01,  1.66292742e-01,  6.76022321e-02,\n",
              "        9.61636528e-02,  1.19687155e-01,  2.42071390e-01, -4.63855006e-02,\n",
              "        2.12914228e-01,  1.25209969e-02,  5.20013049e-02,  3.75262856e-01,\n",
              "       -9.75138396e-02, -1.54908793e-02, -9.37246978e-02,  1.95875354e-02,\n",
              "        4.40316424e-02, -6.43758452e-04,  1.26311347e-01, -4.03083488e-02,\n",
              "        1.29567888e-02, -1.73208676e-02, -3.82599458e-02, -1.47399887e-01,\n",
              "        7.82385916e-02,  2.19444148e-02, -9.20963511e-02, -5.47406450e-02,\n",
              "        4.86481003e-02, -1.04892038e-01, -1.90401286e-01, -8.17936808e-02,\n",
              "       -1.03917003e-01,  3.32275555e-02, -1.05610967e-01, -1.49844080e-01,\n",
              "       -1.22644760e-01,  6.28965721e-02,  4.77403440e-02, -5.85662946e-02,\n",
              "        2.59219736e-01, -1.62829489e-01,  3.00496016e-02,  1.64076015e-01,\n",
              "       -6.42608479e-02, -1.66076809e-01, -3.78461176e-04, -2.60611288e-02,\n",
              "       -8.23625177e-02,  2.46627517e-02,  3.52244042e-02, -4.14271764e-02,\n",
              "       -1.64465263e-01,  3.44580591e-01,  1.97026998e-01, -1.55498507e-02,\n",
              "       -9.43555459e-02, -3.30789499e-02,  7.94486552e-02, -5.97097054e-02,\n",
              "       -1.64763816e-02, -1.33141298e-02,  5.23095541e-02, -6.15903549e-02,\n",
              "        1.18005715e-01, -9.61396843e-02,  9.35936049e-02, -1.32498160e-01,\n",
              "       -1.85728759e-01,  1.40220731e-01, -7.51186311e-02,  1.41292453e-01,\n",
              "        1.77500900e-02,  4.57019620e-02,  1.58544317e-01,  1.57076746e-01,\n",
              "        7.87988082e-02,  1.76759474e-02,  1.88006803e-01,  1.36432886e-01,\n",
              "        1.20909195e-02,  1.96531937e-02, -4.56729978e-02, -1.09352984e-01,\n",
              "       -1.68348938e-01, -3.01658154e-01, -7.05967396e-02,  1.99181855e-01,\n",
              "       -1.50868222e-01, -7.72548467e-03, -1.54146954e-01,  5.82372323e-02,\n",
              "       -1.28075033e-01,  2.04924010e-02, -2.21883446e-01, -1.41695544e-01,\n",
              "       -2.97157025e+00,  3.45125189e-03, -5.23447767e-02,  6.92314729e-02,\n",
              "        5.35909608e-02, -1.04865525e-02, -5.16889850e-03,  1.37914926e-01,\n",
              "        7.13038892e-02, -3.58382054e-02, -6.23261444e-02,  1.63669959e-01,\n",
              "        3.02518755e-02,  3.28560099e-02,  1.36639504e-02,  1.15786754e-01,\n",
              "       -5.86261526e-02,  1.63799584e-01, -1.33190781e-01,  2.54980147e-01,\n",
              "       -8.28049928e-02,  1.78051859e-01,  3.02600972e-02, -2.82680064e-01,\n",
              "        9.02745407e-03, -8.01411867e-02, -2.87073050e-02, -3.15544456e-02,\n",
              "        1.88460574e-01, -3.23582478e-02, -3.83333564e-02, -8.81874412e-02,\n",
              "       -5.63443005e-02, -1.86606497e-01,  1.11606039e-01, -5.56836501e-02,\n",
              "        1.77266002e-02,  1.00941323e-01,  1.39478194e-02,  5.12962453e-02,\n",
              "        6.42640740e-02, -9.75186378e-02, -2.31810644e-01, -4.56965975e-02,\n",
              "       -1.39848087e-02,  7.68121034e-02,  1.06213287e-01, -2.81934980e-02,\n",
              "       -4.08826284e-02,  2.33854219e-01,  5.22415042e-02,  1.32978410e-01,\n",
              "        4.02532443e-02, -8.26647505e-02,  3.87994014e-02,  2.79049456e-01,\n",
              "       -3.65485400e-02,  1.32941650e-02, -1.24825880e-01, -2.31745783e-02,\n",
              "       -1.30105332e-01,  1.74096853e-01, -2.46982984e-02,  3.59106474e-02,\n",
              "       -9.86797363e-03,  2.44510978e-01,  7.63295442e-02, -1.08591020e-01,\n",
              "       -1.66123345e-01, -7.71046504e-02,  9.00310203e-02,  1.86143499e-02,\n",
              "        3.63178668e-03,  2.14105453e-02,  2.29080945e-01, -5.48467562e-02],\n",
              "      dtype=float32)"
            ]
          },
          "metadata": {},
          "execution_count": 10
        }
      ],
      "source": [
        "#trying everything out \n",
        "\n",
        "calculate_description_embedding(clean(mission_statement))"
      ]
    }
  ],
  "metadata": {
    "colab": {
      "provenance": [],
      "include_colab_link": true
    },
    "kernelspec": {
      "display_name": "Python 3",
      "name": "python3"
    },
    "language_info": {
      "name": "python"
    }
  },
  "nbformat": 4,
  "nbformat_minor": 0
}