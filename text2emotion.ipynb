{
  "nbformat": 4,
  "nbformat_minor": 0,
  "metadata": {
    "colab": {
      "provenance": [],
      "mount_file_id": "1px49rLzSg6JPqARrwMINc17mVghIEYeK",
      "authorship_tag": "ABX9TyPNulTQcRfdlpb04ZjHk58M",
      "include_colab_link": true
    },
    "kernelspec": {
      "name": "python3",
      "display_name": "Python 3"
    },
    "language_info": {
      "name": "python"
    }
  },
  "cells": [
    {
      "cell_type": "markdown",
      "metadata": {
        "id": "view-in-github",
        "colab_type": "text"
      },
      "source": [
        "<a href=\"https://colab.research.google.com/github/p-ai-org/p-colleges/blob/main/text2emotion.ipynb\" target=\"_parent\"><img src=\"https://colab.research.google.com/assets/colab-badge.svg\" alt=\"Open In Colab\"/></a>"
      ]
    },
    {
      "cell_type": "code",
      "execution_count": null,
      "metadata": {
        "id": "9g8BIx6oSvuG"
      },
      "outputs": [],
      "source": [
        "# packages\n",
        "#solution to unicode problem - got most recent library directly from the github repos\n",
        "!wget https://raw.githubusercontent.com/aman2656/text2emotion-library/master/Text2Emotion/__init__.py\n",
        "\n",
        "import __init__ as te"
      ]
    },
    {
      "cell_type": "code",
      "source": [
        "text = \"I was asked to sign a third party contract a week out from stay. If it wasn't an 8 person group that took a lot of wrangling I would have cancelled the booking straight away. Bathrooms - there are no stand alone bathrooms. Please consider this - you have to clear out the main bedroom to use that bathroom. Other option is you walk through a different bedroom to get to its en-suite. Signs all over the apartment - there are signs everywhere - some helpful - some telling you rules. Perhaps some people like this but It negatively affected our enjoyment of the accommodation. Stairs - lots of them - some had slightly bending wood which caused a minor injury.\"\n",
        "\n",
        "te.get_emotion(text)"
      ],
      "metadata": {
        "id": "xhmoRR_ZUN0f"
      },
      "execution_count": null,
      "outputs": []
    },
    {
      "cell_type": "code",
      "source": [
        "text = \"you got this man 😆😂\"\n",
        "te.get_emotion(text)\n"
      ],
      "metadata": {
        "id": "uMJ28YniUOT7"
      },
      "execution_count": null,
      "outputs": []
    },
    {
      "cell_type": "code",
      "source": [
        "text = \"I am extremely interested in software.\"\n",
        "te.get_emotion(text)"
      ],
      "metadata": {
        "id": "XsZg0e7tWnWr"
      },
      "execution_count": null,
      "outputs": []
    },
    {
      "cell_type": "code",
      "source": [
        "text = \"The times are difficult! Our sales have been disappointing for the past three quarters for our data analytics product suite. We have a competitive data analytics product suite in the industry. However, we are not doing a good job at selling it, and this is really frustrating.\"\n",
        "te.get_emotion(text)"
      ],
      "metadata": {
        "id": "9xmViqUAjNHs"
      },
      "execution_count": null,
      "outputs": []
    },
    {
      "cell_type": "code",
      "source": [
        "text = \"That night was so horrible.\"\n",
        "te.get_emotion(text)"
      ],
      "metadata": {
        "id": "vTA4qbQXjVjj"
      },
      "execution_count": null,
      "outputs": []
    },
    {
      "cell_type": "code",
      "source": [
        "text = \"I just love this surprise.\"\n",
        "te.get_emotion(text)"
      ],
      "metadata": {
        "id": "L8LLOtnujXhk"
      },
      "execution_count": null,
      "outputs": []
    },
    {
      "cell_type": "code",
      "source": [
        "text = \"I can't understand what to do now.\"\n",
        "te.get_emotion(text)"
      ],
      "metadata": {
        "id": "ydFguVT1jdWE"
      },
      "execution_count": null,
      "outputs": []
    }
  ]
}