{
 "cells": [
  {
   "cell_type": "code",
   "execution_count": 1,
   "metadata": {},
   "outputs": [],
   "source": [
    "import praw\n",
    "from authentication import reddit"
   ]
  },
  {
   "cell_type": "code",
   "execution_count": 3,
   "metadata": {},
   "outputs": [],
   "source": [
    "# Reddit instance: client ID, client secret, and user agent\n",
    "\n",
    "# set the subreddit name\n",
    "subreddit_name = 'UCLA'\n",
    "subreddit = reddit.subreddit(subreddit_name)\n",
    "\n",
    "# 1000 new posts\n",
    "posts = subreddit.new(limit=1000)\n",
    "\n",
    "# create text file to write posts to\n",
    "with open('ucla.txt', 'w', encoding='utf-8') as f:\n",
    "\n",
    "    for post in posts:\n",
    "        # get title\n",
    "        f.write(post.title + '\\n')\n",
    "\n",
    "        # get content (no images obviously)\n",
    "        f.write(post.selftext + '\\n')\n",
    "\n",
    "        # get comments\n",
    "        post.comments.replace_more(limit=None)\n",
    "        comments = post.comments.list()\n",
    "\n",
    "        # loop through each comment\n",
    "        for comment in comments:\n",
    "            # write comment body the file\n",
    "            f.write(comment.body + '\\n')\n"
   ]
  },
  {
   "cell_type": "code",
   "execution_count": null,
   "metadata": {},
   "outputs": [],
   "source": []
  }
 ],
 "metadata": {
  "kernelspec": {
   "display_name": "Python 3",
   "language": "python",
   "name": "python3"
  },
  "language_info": {
   "codemirror_mode": {
    "name": "ipython",
    "version": 3
   },
   "file_extension": ".py",
   "mimetype": "text/x-python",
   "name": "python",
   "nbconvert_exporter": "python",
   "pygments_lexer": "ipython3",
   "version": "3.10.5"
  },
  "orig_nbformat": 4,
  "vscode": {
   "interpreter": {
    "hash": "51923b56f38a5b3424ee861e1200c08869906ff2215aafed0340f54392de6f99"
   }
  }
 },
 "nbformat": 4,
 "nbformat_minor": 2
}
